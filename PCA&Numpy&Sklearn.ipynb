{
  "nbformat": 4,
  "nbformat_minor": 0,
  "metadata": {
    "colab": {
      "name": "PCA&Numpy&Sklearn.ipynb",
      "provenance": [],
      "collapsed_sections": [
        "Zqs61KLerWt5",
        "L-ZNoG6h0At5",
        "Vpcw5REH7QlY",
        "o6-cSSjfWnbQ"
      ],
      "include_colab_link": true
    },
    "kernelspec": {
      "name": "python3",
      "display_name": "Python 3"
    },
    "accelerator": "TPU"
  },
  "cells": [
    {
      "cell_type": "markdown",
      "metadata": {
        "id": "view-in-github",
        "colab_type": "text"
      },
      "source": [
        "<a href=\"https://colab.research.google.com/github/beifa/ML-models/blob/master/PCA%26Numpy%26Sklearn.ipynb\" target=\"_parent\"><img src=\"https://colab.research.google.com/assets/colab-badge.svg\" alt=\"Open In Colab\"/></a>"
      ]
    },
    {
      "cell_type": "code",
      "metadata": {
        "id": "lcM36yJmNQqB",
        "colab_type": "code",
        "colab": {}
      },
      "source": [
        "%matplotlib inline\n",
        "import matplotlib.pyplot as plt\n",
        "import seaborn as sns\n",
        "import numpy as np \n",
        "import pandas as pd \n",
        "from sklearn.datasets import make_regression\n",
        "from sklearn.decomposition import PCA\n",
        "from sklearn.preprocessing import StandardScaler"
      ],
      "execution_count": 0,
      "outputs": []
    },
    {
      "cell_type": "markdown",
      "metadata": {
        "id": "Oi5MbCS-rSXz",
        "colab_type": "text"
      },
      "source": [
        "### Make data"
      ]
    },
    {
      "cell_type": "code",
      "metadata": {
        "id": "L8aS2LgSJ3i8",
        "colab_type": "code",
        "colab": {}
      },
      "source": [
        "#make data\n",
        "X, y = make_regression(n_samples=100, n_features=5, n_informative=5, tail_strength=.5, effective_rank=True, random_state=13)\n",
        "df = pd.DataFrame(X)"
      ],
      "execution_count": 0,
      "outputs": []
    },
    {
      "cell_type": "code",
      "metadata": {
        "id": "OynFJ3bSQtkK",
        "colab_type": "code",
        "outputId": "0d263bc7-bcb4-4f4c-9894-905b1268ac14",
        "colab": {
          "base_uri": "https://localhost:8080/",
          "height": 195
        }
      },
      "source": [
        "#correlation\n",
        "df.corr()"
      ],
      "execution_count": 44,
      "outputs": [
        {
          "output_type": "execute_result",
          "data": {
            "text/html": [
              "<div>\n",
              "<style scoped>\n",
              "    .dataframe tbody tr th:only-of-type {\n",
              "        vertical-align: middle;\n",
              "    }\n",
              "\n",
              "    .dataframe tbody tr th {\n",
              "        vertical-align: top;\n",
              "    }\n",
              "\n",
              "    .dataframe thead th {\n",
              "        text-align: right;\n",
              "    }\n",
              "</style>\n",
              "<table border=\"1\" class=\"dataframe\">\n",
              "  <thead>\n",
              "    <tr style=\"text-align: right;\">\n",
              "      <th></th>\n",
              "      <th>0</th>\n",
              "      <th>1</th>\n",
              "      <th>2</th>\n",
              "      <th>3</th>\n",
              "      <th>4</th>\n",
              "    </tr>\n",
              "  </thead>\n",
              "  <tbody>\n",
              "    <tr>\n",
              "      <th>0</th>\n",
              "      <td>1.000000</td>\n",
              "      <td>0.408255</td>\n",
              "      <td>0.598803</td>\n",
              "      <td>-0.596714</td>\n",
              "      <td>0.201505</td>\n",
              "    </tr>\n",
              "    <tr>\n",
              "      <th>1</th>\n",
              "      <td>0.408255</td>\n",
              "      <td>1.000000</td>\n",
              "      <td>0.432351</td>\n",
              "      <td>-0.502208</td>\n",
              "      <td>-0.105907</td>\n",
              "    </tr>\n",
              "    <tr>\n",
              "      <th>2</th>\n",
              "      <td>0.598803</td>\n",
              "      <td>0.432351</td>\n",
              "      <td>1.000000</td>\n",
              "      <td>-0.693850</td>\n",
              "      <td>-0.044258</td>\n",
              "    </tr>\n",
              "    <tr>\n",
              "      <th>3</th>\n",
              "      <td>-0.596714</td>\n",
              "      <td>-0.502208</td>\n",
              "      <td>-0.693850</td>\n",
              "      <td>1.000000</td>\n",
              "      <td>0.014930</td>\n",
              "    </tr>\n",
              "    <tr>\n",
              "      <th>4</th>\n",
              "      <td>0.201505</td>\n",
              "      <td>-0.105907</td>\n",
              "      <td>-0.044258</td>\n",
              "      <td>0.014930</td>\n",
              "      <td>1.000000</td>\n",
              "    </tr>\n",
              "  </tbody>\n",
              "</table>\n",
              "</div>"
            ],
            "text/plain": [
              "          0         1         2         3         4\n",
              "0  1.000000  0.408255  0.598803 -0.596714  0.201505\n",
              "1  0.408255  1.000000  0.432351 -0.502208 -0.105907\n",
              "2  0.598803  0.432351  1.000000 -0.693850 -0.044258\n",
              "3 -0.596714 -0.502208 -0.693850  1.000000  0.014930\n",
              "4  0.201505 -0.105907 -0.044258  0.014930  1.000000"
            ]
          },
          "metadata": {
            "tags": []
          },
          "execution_count": 44
        }
      ]
    },
    {
      "cell_type": "markdown",
      "metadata": {
        "id": "Zqs61KLerWt5",
        "colab_type": "text"
      },
      "source": [
        "### Make model"
      ]
    },
    {
      "cell_type": "markdown",
      "metadata": {
        "id": "QBo9--1CfUFt",
        "colab_type": "text"
      },
      "source": [
        "**Сформируем ковариационную матрицу**\n",
        "\n",
        "Таким образом, в нашей матрице по диагонали будут дисперсии признаков, а в остальных ячейках – ковариации соответствующих пар признаков(**иными словами зависимости одних признаков от других**). "
      ]
    },
    {
      "cell_type": "code",
      "metadata": {
        "id": "ioxUaX3sT8in",
        "colab_type": "code",
        "colab": {}
      },
      "source": [
        "cov_matrix = np.cov(df.values.T)"
      ],
      "execution_count": 0,
      "outputs": []
    },
    {
      "cell_type": "markdown",
      "metadata": {
        "id": "sEPD6l5rYsh0",
        "colab_type": "text"
      },
      "source": [
        "**Eigen Vector and Eigenvalues**\n",
        "\n",
        "Собственный вектор и собственные значения\n",
        "\n",
        "Собственные векторы (главные компоненты) определяют направления нового пространства признаков, а собственные значения определяют их величину. Другими словами, собственные значения объясняют дисперсию данных вдоль новых осей признаков. Собственный вектор матрицы A представляет собой вектор, представленный матрицей X, так что, когда X умножается на матрицу A, направление результирующей матрицы остается таким же, как вектор X.\n"
      ]
    },
    {
      "cell_type": "markdown",
      "metadata": {
        "id": "cVTr4VnpikKT",
        "colab_type": "text"
      },
      "source": [
        "#### Calc evalues, evector and Find percent"
      ]
    },
    {
      "cell_type": "code",
      "metadata": {
        "id": "9GxwnEceWMMi",
        "colab_type": "code",
        "outputId": "44d422d9-aed4-435f-9e2a-83f58696c0f7",
        "colab": {
          "base_uri": "https://localhost:8080/",
          "height": 34
        }
      },
      "source": [
        "val_vec, vec = np.linalg.eig(cov_matrix)\n",
        "vec[0]"
      ],
      "execution_count": 47,
      "outputs": [
        {
          "output_type": "execute_result",
          "data": {
            "text/plain": [
              "array([-0.39829323, -0.23148818,  0.8312332 , -0.3107041 ,  0.01703118])"
            ]
          },
          "metadata": {
            "tags": []
          },
          "execution_count": 47
        }
      ]
    },
    {
      "cell_type": "code",
      "metadata": {
        "id": "oBBHdXUNWMIX",
        "colab_type": "code",
        "outputId": "6773dbea-7596-4b4f-e9d4-117e7e001aa4",
        "colab": {
          "base_uri": "https://localhost:8080/",
          "height": 185
        }
      },
      "source": [
        "#make pairs\n",
        "eig_pairs = [(np.abs(val_vec[i]), vec[:,i]) for i in range(len(val_vec))]\n",
        "#sort\n",
        "eig_pairs.sort(key=lambda x: x[0], reverse=True)\n",
        "eig_pairs"
      ],
      "execution_count": 0,
      "outputs": [
        {
          "output_type": "execute_result",
          "data": {
            "text/plain": [
              "[(0.01003804918508908,\n",
              "  array([-0.39829323, -0.32275019, -0.58448057,  0.62894889, -0.00075963])),\n",
              " (0.004034321911920788,\n",
              "  array([-0.23148818,  0.13695785,  0.05463838, -0.02669868, -0.96122713])),\n",
              " (0.0017617093449756494,\n",
              "  array([ 0.01703118,  0.85960976, -0.50241183, -0.01488004,  0.09023268])),\n",
              " (0.0013711268115077532,\n",
              "  array([-0.3107041 , -0.28367541, -0.46760292, -0.77683597,  0.02940427])),\n",
              " (0.0011234436626234984,\n",
              "  array([ 0.8312332 , -0.24015448, -0.42933318,  0.00386529, -0.25891172]))]"
            ]
          },
          "metadata": {
            "tags": []
          },
          "execution_count": 137
        }
      ]
    },
    {
      "cell_type": "code",
      "metadata": {
        "id": "zFWDMhNAjH0M",
        "colab_type": "code",
        "outputId": "c7807ec5-6428-406e-ff0b-fa80f1c3a754",
        "colab": {
          "base_uri": "https://localhost:8080/",
          "height": 101
        }
      },
      "source": [
        "total = sum(val_vec)\n",
        "var_exp = [(i / total)*100 for i in sorted(val_vec, reverse=True)]\n",
        "var_exp #sum return 100"
      ],
      "execution_count": 52,
      "outputs": [
        {
          "output_type": "execute_result",
          "data": {
            "text/plain": [
              "[54.76698329314795,\n",
              " 22.011013960516447,\n",
              " 9.611778592097803,\n",
              " 7.4807841438132945,\n",
              " 6.129440010424504]"
            ]
          },
          "metadata": {
            "tags": []
          },
          "execution_count": 52
        }
      ]
    },
    {
      "cell_type": "markdown",
      "metadata": {
        "id": "yJeplk6bsa0O",
        "colab_type": "text"
      },
      "source": [
        "#### PCA"
      ]
    },
    {
      "cell_type": "code",
      "metadata": {
        "id": "Jv69Hlf1qqxD",
        "colab_type": "code",
        "colab": {}
      },
      "source": [
        "pca = PCA(n_components=1)\n",
        "X_pca = pca.fit_transform(X)"
      ],
      "execution_count": 0,
      "outputs": []
    },
    {
      "cell_type": "code",
      "metadata": {
        "id": "QpBUJugo43lY",
        "colab_type": "code",
        "outputId": "e3f61785-785f-4a90-9ccf-bab551433f8d",
        "colab": {
          "base_uri": "https://localhost:8080/",
          "height": 34
        }
      },
      "source": [
        "pca.components_"
      ],
      "execution_count": 5,
      "outputs": [
        {
          "output_type": "execute_result",
          "data": {
            "text/plain": [
              "array([[-0.39829323, -0.32275019, -0.58448057,  0.62894889, -0.00075963]])"
            ]
          },
          "metadata": {
            "tags": []
          },
          "execution_count": 5
        }
      ]
    },
    {
      "cell_type": "code",
      "metadata": {
        "id": "L2-YRxrQqq2a",
        "colab_type": "code",
        "outputId": "1f344d1e-382b-48d4-ec89-8d063cca77ee",
        "colab": {
          "base_uri": "https://localhost:8080/",
          "height": 34
        }
      },
      "source": [
        "pca.explained_variance_ratio_"
      ],
      "execution_count": 6,
      "outputs": [
        {
          "output_type": "execute_result",
          "data": {
            "text/plain": [
              "array([0.54766983])"
            ]
          },
          "metadata": {
            "tags": []
          },
          "execution_count": 6
        }
      ]
    },
    {
      "cell_type": "code",
      "metadata": {
        "id": "XcdOaYdf1p5g",
        "colab_type": "code",
        "outputId": "a5215f71-b850-4d4f-9efb-9d46d88b8ea8",
        "colab": {
          "base_uri": "https://localhost:8080/",
          "height": 268
        }
      },
      "source": [
        "pca_new = pca.inverse_transform(X_pca)\n",
        "plt.scatter(X[:, 0], X[:, 1], alpha=0.3, color = 'gray')\n",
        "plt.scatter(pca_new[:, 0], pca_new[:, 1], alpha=0.7, color = 'red')\n",
        "plt.title('PCA 1 component')\n",
        "plt.yticks(())\n",
        "plt.xticks(());"
      ],
      "execution_count": 10,
      "outputs": [
        {
          "output_type": "display_data",
          "data": {
            "image/png": "[encoded data removed]",
            "text/plain": [
              "<Figure size 432x288 with 1 Axes>"
            ]
          },
          "metadata": {
            "tags": []
          }
        }
      ]
    },
    {
      "cell_type": "markdown",
      "metadata": {
        "id": "QvKA8ptex_ji",
        "colab_type": "text"
      },
      "source": [
        "#### Calc and plot vector"
      ]
    },
    {
      "cell_type": "code",
      "metadata": {
        "id": "IeB90XOLt6Zu",
        "colab_type": "code",
        "colab": {}
      },
      "source": [
        "e_value_3sigma = 3 * np.sqrt(pca.explained_variance_[0]) \n",
        "e_value_3sigma_arr = np.array([[-e_value_3sigma, e_value_3sigma]])\n",
        "e_vector = np.array([pca.components_[0]]).T\n",
        "e = np.dot(e_vector, e_value_3sigma_arr)"
      ],
      "execution_count": 0,
      "outputs": []
    },
    {
      "cell_type": "code",
      "metadata": {
        "id": "Ea1XrwaxyG6C",
        "colab_type": "code",
        "outputId": "03eaf6e3-6b67-49af-ff88-2ed9fa2f2600",
        "colab": {
          "base_uri": "https://localhost:8080/",
          "height": 268
        }
      },
      "source": [
        "plt.scatter(X[:, 0], X[:, 1], alpha=0.3, color = 'gray')\n",
        "plt.plot(e[0], e[1], 'g--')\n",
        "plt.title('PCA e_vector')\n",
        "plt.yticks(())\n",
        "plt.xticks(());"
      ],
      "execution_count": 15,
      "outputs": [
        {
          "output_type": "display_data",
          "data": {
            "image/png": "[encoded data removed]",
            "text/plain": [
              "<Figure size 432x288 with 1 Axes>"
            ]
          },
          "metadata": {
            "tags": []
          }
        }
      ]
    },
    {
      "cell_type": "markdown",
      "metadata": {
        "id": "L-ZNoG6h0At5",
        "colab_type": "text"
      },
      "source": [
        "### Add iris data"
      ]
    },
    {
      "cell_type": "code",
      "metadata": {
        "id": "3g9ktkkjCRRL",
        "colab_type": "code",
        "colab": {}
      },
      "source": [
        "from sklearn.datasets import load_iris\n",
        "X, y = load_iris(return_X_y=True)"
      ],
      "execution_count": 0,
      "outputs": []
    },
    {
      "cell_type": "code",
      "metadata": {
        "id": "F0NSQrMxCwZU",
        "colab_type": "code",
        "outputId": "07f7231a-fdb3-43b2-e593-c953bd246adc",
        "colab": {
          "base_uri": "https://localhost:8080/",
          "height": 295
        }
      },
      "source": [
        "plt.scatter(X[:, 0], X[:,2])\n",
        "plt.xlabel('sepal length')\n",
        "plt.ylabel('petal width')\n",
        "plt.title('Cor two features');"
      ],
      "execution_count": 64,
      "outputs": [
        {
          "output_type": "display_data",
          "data": {
            "image/png": "[encoded data removed]",
            "text/plain": [
              "<Figure size 432x288 with 1 Axes>"
            ]
          },
          "metadata": {
            "tags": []
          }
        }
      ]
    },
    {
      "cell_type": "code",
      "metadata": {
        "id": "u_bdJ5WiCwif",
        "colab_type": "code",
        "colab": {}
      },
      "source": [
        "data = load_iris()\n",
        "df = pd.DataFrame(X, columns=data.feature_names)"
      ],
      "execution_count": 0,
      "outputs": []
    },
    {
      "cell_type": "code",
      "metadata": {
        "id": "bsSzksTUCwm3",
        "colab_type": "code",
        "colab": {}
      },
      "source": [
        "df.drop(labels=['sepal width (cm)', 'petal width (cm)'], axis = 1, inplace=True)"
      ],
      "execution_count": 0,
      "outputs": []
    },
    {
      "cell_type": "code",
      "metadata": {
        "id": "69zO1xxBNONW",
        "colab_type": "code",
        "outputId": "488435dd-91c5-4db6-e3aa-fb0b13847983",
        "colab": {
          "base_uri": "https://localhost:8080/",
          "height": 34
        }
      },
      "source": [
        "pca = PCA(n_components = 1)\n",
        "p1 = pca.fit_transform(df)\n",
        "pca.explained_variance_ratio_"
      ],
      "execution_count": 67,
      "outputs": [
        {
          "output_type": "execute_result",
          "data": {
            "text/plain": [
              "array([0.9631579])"
            ]
          },
          "metadata": {
            "tags": []
          },
          "execution_count": 67
        }
      ]
    },
    {
      "cell_type": "markdown",
      "metadata": {
        "id": "-VAonMbKZKUQ",
        "colab_type": "text"
      },
      "source": [
        "Преобразованные данные были сведены к одному измерению. Чтобы понять эффект такого уменьшения размерности, мы можем выполнить обратное преобразование этих сокращенных данных и построить их вместе с исходными данными"
      ]
    },
    {
      "cell_type": "code",
      "metadata": {
        "id": "kxQrpOLUY_5i",
        "colab_type": "code",
        "outputId": "42f6aadf-b44d-4670-97d6-e81d55decd5f",
        "colab": {
          "base_uri": "https://localhost:8080/",
          "height": 269
        }
      },
      "source": [
        "p1_new = pca.inverse_transform(p1)\n",
        "plt.scatter(X[:, 0], X[:, 2], alpha=0.3, color = 'gray')\n",
        "plt.scatter(p1_new[:, 0], p1_new[:, 1], alpha=0.7, color = 'red')\n",
        "plt.axis('equal');"
      ],
      "execution_count": 68,
      "outputs": [
        {
          "output_type": "display_data",
          "data": {
            "image/png": "[encoded data removed]",
            "text/plain": [
              "<Figure size 432x288 with 1 Axes>"
            ]
          },
          "metadata": {
            "tags": []
          }
        }
      ]
    },
    {
      "cell_type": "code",
      "metadata": {
        "id": "dne1RDbFXC_6",
        "colab_type": "code",
        "outputId": "ee3f36d4-d521-4ec4-a22d-fc227a1cd275",
        "colab": {
          "base_uri": "https://localhost:8080/",
          "height": 269
        }
      },
      "source": [
        "def draw_vector(v0, v1, ax=None):\n",
        "    ax = ax or plt.gca()\n",
        "    arrowprops=dict(arrowstyle='->',\n",
        "                    linewidth=2,\n",
        "                    shrinkA=0, shrinkB=0)\n",
        "    ax.annotate('', v1, v0, arrowprops=arrowprops)\n",
        "\n",
        "# plot data\n",
        "plt.scatter(X[:,0], X[:,2], alpha=0.2)\n",
        "for length, vector in zip(pca.explained_variance_ratio_, pca.components_):\n",
        "    v = vector * 3 * np.sqrt(length)\n",
        "    draw_vector(pca.mean_, pca.mean_ + v)\n",
        "plt.axis('equal');"
      ],
      "execution_count": 69,
      "outputs": [
        {
          "output_type": "display_data",
          "data": {
            "image/png": "[encoded data removed]",
            "text/plain": [
              "<Figure size 432x288 with 1 Axes>"
            ]
          },
          "metadata": {
            "tags": []
          }
        }
      ]
    },
    {
      "cell_type": "markdown",
      "metadata": {
        "id": "Vpcw5REH7QlY",
        "colab_type": "text"
      },
      "source": [
        "### Add gen data, cal PCA by numpy"
      ]
    },
    {
      "cell_type": "code",
      "metadata": {
        "id": "Kce7W-oT7UTo",
        "colab_type": "code",
        "outputId": "c3e2340b-0390-44b9-9b10-e802d274badb",
        "colab": {
          "base_uri": "https://localhost:8080/",
          "height": 268
        }
      },
      "source": [
        "# Make new data\n",
        "x = np.random.normal(scale =5, size = 100)\n",
        "y = x*2 + np.random.normal(scale =3, size = 100)\n",
        "plt.scatter(x, y)\n",
        "plt.title('New gen data')\n",
        "plt.yticks(())\n",
        "plt.xticks(());"
      ],
      "execution_count": 170,
      "outputs": [
        {
          "output_type": "display_data",
          "data": {
            "image/png": "[encoded data removed]",
            "text/plain": [
              "<Figure size 432x288 with 1 Axes>"
            ]
          },
          "metadata": {
            "tags": []
          }
        }
      ]
    },
    {
      "cell_type": "code",
      "metadata": {
        "id": "ZPYMlz8orIaK",
        "colab_type": "code",
        "colab": {}
      },
      "source": [
        "#centred data\n",
        "x = x - np.mean(x)\n",
        "y = y - np.mean(y)\n",
        "X = np.vstack((x, y))"
      ],
      "execution_count": 0,
      "outputs": []
    },
    {
      "cell_type": "markdown",
      "metadata": {
        "id": "Zc95-fJw_Ub-",
        "colab_type": "text"
      },
      "source": [
        "Если два векторных элемента изменяются вместе, они будут иметь более высокую ковариацию. Если изменение одного элемента полностью не зависит от другого, их ковариация стремится к нулю."
      ]
    },
    {
      "cell_type": "code",
      "metadata": {
        "id": "8LZyevUW-jLT",
        "colab_type": "code",
        "outputId": "e6336ef8-b3bd-49f4-bc67-f92eae184981",
        "colab": {
          "base_uri": "https://localhost:8080/",
          "height": 50
        }
      },
      "source": [
        "#cov\n",
        "cov = np.cov(X)\n",
        "cov"
      ],
      "execution_count": 172,
      "outputs": [
        {
          "output_type": "execute_result",
          "data": {
            "text/plain": [
              "array([[19.64182052, 38.88045485],\n",
              "       [38.88045485, 88.25166998]])"
            ]
          },
          "metadata": {
            "tags": []
          },
          "execution_count": 172
        }
      ]
    },
    {
      "cell_type": "code",
      "metadata": {
        "id": "Xzcuf49uAKsS",
        "colab_type": "code",
        "outputId": "25cf0f41-53d6-4e37-b463-105e6f66d9bf",
        "colab": {
          "base_uri": "https://localhost:8080/",
          "height": 50
        }
      },
      "source": [
        "# Variance check\n",
        "np.var(X[0]), np.var(X[1])\n",
        "print('Variance X:', cov[0,0], 'Variance Y:', cov[1,1])\n",
        "print('The variance is greatest in the Y axis.')"
      ],
      "execution_count": 173,
      "outputs": [
        {
          "output_type": "stream",
          "text": [
            "Variance X: 19.641820516275125 Variance Y: 88.25166997813486\n",
            "The variance is greatest in the Y axis.\n"
          ],
          "name": "stdout"
        }
      ]
    },
    {
      "cell_type": "code",
      "metadata": {
        "id": "6mla8_SuAK3y",
        "colab_type": "code",
        "outputId": "1ea47ca6-dd0d-4a3f-961a-e71f89f8cc4c",
        "colab": {
          "base_uri": "https://localhost:8080/",
          "height": 50
        }
      },
      "source": [
        "e_val, vec = np.linalg.eig(cov)\n",
        "vec"
      ],
      "execution_count": 191,
      "outputs": [
        {
          "output_type": "execute_result",
          "data": {
            "text/plain": [
              "array([[-0.9114842 , -0.41133508],\n",
              "       [ 0.41133508, -0.9114842 ]])"
            ]
          },
          "metadata": {
            "tags": []
          },
          "execution_count": 191
        }
      ]
    },
    {
      "cell_type": "code",
      "metadata": {
        "id": "l9qAH5f73akr",
        "colab_type": "code",
        "colab": {}
      },
      "source": [
        "def variance_ratio(e_val):\n",
        "  # calc ratio\n",
        "  total = sum(e_val)\n",
        "  var_exp = [(i / total) for i in e_val]\n",
        "  return var_exp "
      ],
      "execution_count": 0,
      "outputs": []
    },
    {
      "cell_type": "code",
      "metadata": {
        "id": "acgJv1kK3t7w",
        "colab_type": "code",
        "colab": {}
      },
      "source": [
        "#ratio\n",
        "ratio = variance_ratio(e_val)"
      ],
      "execution_count": 0,
      "outputs": []
    },
    {
      "cell_type": "code",
      "metadata": {
        "id": "N1_vrPxFDbHB",
        "colab_type": "code",
        "outputId": "ffc2470b-5e7d-4638-ed50-fc113bfac5c6",
        "colab": {
          "base_uri": "https://localhost:8080/",
          "height": 294
        }
      },
      "source": [
        "fig, (ax1, ax2) = plt.subplots(1, 2)\n",
        "sns.distplot(X[0], ax = ax1)\n",
        "sns.distplot(X[1], ax = ax2)\n",
        "plt.suptitle('Dist plot data');"
      ],
      "execution_count": 24,
      "outputs": [
        {
          "output_type": "display_data",
          "data": {
            "image/png": "[encoded data removed]",
            "text/plain": [
              "<Figure size 432x288 with 2 Axes>"
            ]
          },
          "metadata": {
            "tags": []
          }
        }
      ]
    },
    {
      "cell_type": "code",
      "metadata": {
        "id": "rXGlsD2kGzJm",
        "colab_type": "code",
        "colab": {
          "base_uri": "https://localhost:8080/",
          "height": 281
        },
        "outputId": "e959797d-ba62-40f1-c8df-3f254d51a108"
      },
      "source": [
        "X_new = np.dot(vec[0], X)\n",
        "var = [cov[0,0], cov[1,1]]\n",
        "sigma = np.sqrt(var)\n",
        "sigma = np.array([-sigma, sigma])\n",
        "ev = np.dot(vec.T, sigma)\n",
        "plt.scatter(X[0], X[1])\n",
        "plt.plot(ev[:, 0], ev[:, 1], color = 'r')\n",
        "plt.title('Calc&direction of the vector of principal components, ratio: ' + str(np.round(ratio[1], decimals=3)));"
      ],
      "execution_count": 203,
      "outputs": [
        {
          "output_type": "display_data",
          "data": {
            "image/png": "[encoded data removed]",
            "text/plain": [
              "<Figure size 432x288 with 1 Axes>"
            ]
          },
          "metadata": {
            "tags": []
          }
        }
      ]
    },
    {
      "cell_type": "code",
      "metadata": {
        "id": "yJXbTKdrz-U4",
        "colab_type": "code",
        "colab": {
          "base_uri": "https://localhost:8080/",
          "height": 281
        },
        "outputId": "c763f024-03e6-4363-f2cd-eb28c7823a17"
      },
      "source": [
        "def draw_vector(v0, v1, ax=None):\n",
        "    ax = ax or plt.gca()\n",
        "    arrowprops=dict(arrowstyle='->',\n",
        "                    linewidth=2,\n",
        "                    shrinkA=0, shrinkB=0)\n",
        "    ax.annotate('', v1, v0, arrowprops=arrowprops)\n",
        "\n",
        "# plot data\n",
        "plt.scatter(X[0], X[1], alpha=0.2)\n",
        "for length, vector in zip(ratio, abs(vec)):\n",
        "    v = vector * 10 * np.sqrt(length)\n",
        "    draw_vector(X.mean(axis= 1), X.mean(axis= 1)+ v)\n",
        "#plt.axis('equal');\n",
        "plt.title('Plot Vectors PCA');"
      ],
      "execution_count": 200,
      "outputs": [
        {
          "output_type": "display_data",
          "data": {
            "image/png": "[encoded data removed]",
            "text/plain": [
              "<Figure size 432x288 with 1 Axes>"
            ]
          },
          "metadata": {
            "tags": []
          }
        }
      ]
    },
    {
      "cell_type": "markdown",
      "metadata": {
        "id": "o6-cSSjfWnbQ",
        "colab_type": "text"
      },
      "source": [
        "### Add boston data"
      ]
    },
    {
      "cell_type": "code",
      "metadata": {
        "id": "W5b6EO5HWMMw",
        "colab_type": "code",
        "outputId": "ead8b5f8-b64e-4ac9-c4bd-2f904734bdfb",
        "colab": {
          "base_uri": "https://localhost:8080/",
          "height": 67
        }
      },
      "source": [
        "from sklearn.datasets import load_boston\n",
        "data = load_boston()\n",
        "print(data.data.shape)\n",
        "print(data.feature_names)"
      ],
      "execution_count": 204,
      "outputs": [
        {
          "output_type": "stream",
          "text": [
            "(506, 13)\n",
            "['CRIM' 'ZN' 'INDUS' 'CHAS' 'NOX' 'RM' 'AGE' 'DIS' 'RAD' 'TAX' 'PTRATIO'\n",
            " 'B' 'LSTAT']\n"
          ],
          "name": "stdout"
        }
      ]
    },
    {
      "cell_type": "code",
      "metadata": {
        "id": "LJ64QRfwXOiC",
        "colab_type": "code",
        "outputId": "ba841a6e-147a-48eb-8217-a7a002bac6fd",
        "colab": {
          "base_uri": "https://localhost:8080/",
          "height": 195
        }
      },
      "source": [
        "boston = pd.DataFrame(data.data, columns=data.feature_names)\n",
        "#full data and not nan\n",
        "boston.head()"
      ],
      "execution_count": 205,
      "outputs": [
        {
          "output_type": "execute_result",
          "data": {
            "text/html": [
              "<div>\n",
              "<style scoped>\n",
              "    .dataframe tbody tr th:only-of-type {\n",
              "        vertical-align: middle;\n",
              "    }\n",
              "\n",
              "    .dataframe tbody tr th {\n",
              "        vertical-align: top;\n",
              "    }\n",
              "\n",
              "    .dataframe thead th {\n",
              "        text-align: right;\n",
              "    }\n",
              "</style>\n",
              "<table border=\"1\" class=\"dataframe\">\n",
              "  <thead>\n",
              "    <tr style=\"text-align: right;\">\n",
              "      <th></th>\n",
              "      <th>CRIM</th>\n",
              "      <th>ZN</th>\n",
              "      <th>INDUS</th>\n",
              "      <th>CHAS</th>\n",
              "      <th>NOX</th>\n",
              "      <th>RM</th>\n",
              "      <th>AGE</th>\n",
              "      <th>DIS</th>\n",
              "      <th>RAD</th>\n",
              "      <th>TAX</th>\n",
              "      <th>PTRATIO</th>\n",
              "      <th>B</th>\n",
              "      <th>LSTAT</th>\n",
              "    </tr>\n",
              "  </thead>\n",
              "  <tbody>\n",
              "    <tr>\n",
              "      <th>0</th>\n",
              "      <td>0.00632</td>\n",
              "      <td>18.0</td>\n",
              "      <td>2.31</td>\n",
              "      <td>0.0</td>\n",
              "      <td>0.538</td>\n",
              "      <td>6.575</td>\n",
              "      <td>65.2</td>\n",
              "      <td>4.0900</td>\n",
              "      <td>1.0</td>\n",
              "      <td>296.0</td>\n",
              "      <td>15.3</td>\n",
              "      <td>396.90</td>\n",
              "      <td>4.98</td>\n",
              "    </tr>\n",
              "    <tr>\n",
              "      <th>1</th>\n",
              "      <td>0.02731</td>\n",
              "      <td>0.0</td>\n",
              "      <td>7.07</td>\n",
              "      <td>0.0</td>\n",
              "      <td>0.469</td>\n",
              "      <td>6.421</td>\n",
              "      <td>78.9</td>\n",
              "      <td>4.9671</td>\n",
              "      <td>2.0</td>\n",
              "      <td>242.0</td>\n",
              "      <td>17.8</td>\n",
              "      <td>396.90</td>\n",
              "      <td>9.14</td>\n",
              "    </tr>\n",
              "    <tr>\n",
              "      <th>2</th>\n",
              "      <td>0.02729</td>\n",
              "      <td>0.0</td>\n",
              "      <td>7.07</td>\n",
              "      <td>0.0</td>\n",
              "      <td>0.469</td>\n",
              "      <td>7.185</td>\n",
              "      <td>61.1</td>\n",
              "      <td>4.9671</td>\n",
              "      <td>2.0</td>\n",
              "      <td>242.0</td>\n",
              "      <td>17.8</td>\n",
              "      <td>392.83</td>\n",
              "      <td>4.03</td>\n",
              "    </tr>\n",
              "    <tr>\n",
              "      <th>3</th>\n",
              "      <td>0.03237</td>\n",
              "      <td>0.0</td>\n",
              "      <td>2.18</td>\n",
              "      <td>0.0</td>\n",
              "      <td>0.458</td>\n",
              "      <td>6.998</td>\n",
              "      <td>45.8</td>\n",
              "      <td>6.0622</td>\n",
              "      <td>3.0</td>\n",
              "      <td>222.0</td>\n",
              "      <td>18.7</td>\n",
              "      <td>394.63</td>\n",
              "      <td>2.94</td>\n",
              "    </tr>\n",
              "    <tr>\n",
              "      <th>4</th>\n",
              "      <td>0.06905</td>\n",
              "      <td>0.0</td>\n",
              "      <td>2.18</td>\n",
              "      <td>0.0</td>\n",
              "      <td>0.458</td>\n",
              "      <td>7.147</td>\n",
              "      <td>54.2</td>\n",
              "      <td>6.0622</td>\n",
              "      <td>3.0</td>\n",
              "      <td>222.0</td>\n",
              "      <td>18.7</td>\n",
              "      <td>396.90</td>\n",
              "      <td>5.33</td>\n",
              "    </tr>\n",
              "  </tbody>\n",
              "</table>\n",
              "</div>"
            ],
            "text/plain": [
              "      CRIM    ZN  INDUS  CHAS    NOX  ...  RAD    TAX  PTRATIO       B  LSTAT\n",
              "0  0.00632  18.0   2.31   0.0  0.538  ...  1.0  296.0     15.3  396.90   4.98\n",
              "1  0.02731   0.0   7.07   0.0  0.469  ...  2.0  242.0     17.8  396.90   9.14\n",
              "2  0.02729   0.0   7.07   0.0  0.469  ...  2.0  242.0     17.8  392.83   4.03\n",
              "3  0.03237   0.0   2.18   0.0  0.458  ...  3.0  222.0     18.7  394.63   2.94\n",
              "4  0.06905   0.0   2.18   0.0  0.458  ...  3.0  222.0     18.7  396.90   5.33\n",
              "\n",
              "[5 rows x 13 columns]"
            ]
          },
          "metadata": {
            "tags": []
          },
          "execution_count": 205
        }
      ]
    },
    {
      "cell_type": "markdown",
      "metadata": {
        "id": "GD4ZFxj4dhfN",
        "colab_type": "text"
      },
      "source": [
        "#### Corr"
      ]
    },
    {
      "cell_type": "code",
      "metadata": {
        "id": "6bmOGUGEWMKi",
        "colab_type": "code",
        "outputId": "64ab595d-8463-49ef-8921-f879153f07fe",
        "colab": {
          "base_uri": "https://localhost:8080/",
          "height": 324
        }
      },
      "source": [
        "plt.figure(figsize=(12,5))\n",
        "sns.heatmap(boston.corr(), vmin = 0, vmax = 1, annot=True,fmt='.1f');"
      ],
      "execution_count": 206,
      "outputs": [
        {
          "output_type": "display_data",
          "data": {
            "image/png": "[encoded data removed]",
            "text/plain": [
              "<Figure size 864x360 with 2 Axes>"
            ]
          },
          "metadata": {
            "tags": []
          }
        }
      ]
    },
    {
      "cell_type": "code",
      "metadata": {
        "id": "IcokdJ1UhKq4",
        "colab_type": "code",
        "colab": {}
      },
      "source": [
        "# not start crash\n",
        "##make cov matrix\n",
        "#cov_matrix = np.cov(scaled)\n",
        "# val, vec =  np.linalg.eig(cov_matrix)\n",
        "# total_val = sum(val)\n",
        "# ratio= [(i / total_val) for i in vec]\n",
        "# print(ratio)"
      ],
      "execution_count": 0,
      "outputs": []
    },
    {
      "cell_type": "markdown",
      "metadata": {
        "id": "-dOQ5GlUooOl",
        "colab_type": "text"
      },
      "source": [
        "PCA sclearn applying SVD\n",
        "\n",
        "Разложение по сингулярным значениям (SVD)\n",
        "\n",
        "SVD - это процесс получения истинного числа векторов в матрице и их аппроксимации в виде линейной комбинации меньшего списка векторов. Этот новый список называется собственным разложением матрицы и содержит только те собственные векторы, которые объясняют существенные части дисперсии.\n",
        "\n",
        "Когда наборы данных имеют большое количество переменных по сравнению с выборками, ковариационная матрица становится очень большой, и выполнение вычислений на ней будет медленным и обременительным для вашего компьютера.\n",
        "\n",
        "SVD может быть более точным, поскольку при вычислении ковариационной матрицы теряется точность. SVD не рассчитывает эту матрицу, поэтому она будет сохранять оптимальную точность. "
      ]
    },
    {
      "cell_type": "code",
      "metadata": {
        "id": "8LeyY2aLhK-1",
        "colab_type": "code",
        "outputId": "926c4db4-b9de-41b9-fa86-082d6e32dcee",
        "colab": {
          "base_uri": "https://localhost:8080/",
          "height": 432
        }
      },
      "source": [
        "boston.corr() < 0.7"
      ],
      "execution_count": 208,
      "outputs": [
        {
          "output_type": "execute_result",
          "data": {
            "text/html": [
              "<div>\n",
              "<style scoped>\n",
              "    .dataframe tbody tr th:only-of-type {\n",
              "        vertical-align: middle;\n",
              "    }\n",
              "\n",
              "    .dataframe tbody tr th {\n",
              "        vertical-align: top;\n",
              "    }\n",
              "\n",
              "    .dataframe thead th {\n",
              "        text-align: right;\n",
              "    }\n",
              "</style>\n",
              "<table border=\"1\" class=\"dataframe\">\n",
              "  <thead>\n",
              "    <tr style=\"text-align: right;\">\n",
              "      <th></th>\n",
              "      <th>CRIM</th>\n",
              "      <th>ZN</th>\n",
              "      <th>INDUS</th>\n",
              "      <th>CHAS</th>\n",
              "      <th>NOX</th>\n",
              "      <th>RM</th>\n",
              "      <th>AGE</th>\n",
              "      <th>DIS</th>\n",
              "      <th>RAD</th>\n",
              "      <th>TAX</th>\n",
              "      <th>PTRATIO</th>\n",
              "      <th>B</th>\n",
              "      <th>LSTAT</th>\n",
              "    </tr>\n",
              "  </thead>\n",
              "  <tbody>\n",
              "    <tr>\n",
              "      <th>CRIM</th>\n",
              "      <td>False</td>\n",
              "      <td>True</td>\n",
              "      <td>True</td>\n",
              "      <td>True</td>\n",
              "      <td>True</td>\n",
              "      <td>True</td>\n",
              "      <td>True</td>\n",
              "      <td>True</td>\n",
              "      <td>True</td>\n",
              "      <td>True</td>\n",
              "      <td>True</td>\n",
              "      <td>True</td>\n",
              "      <td>True</td>\n",
              "    </tr>\n",
              "    <tr>\n",
              "      <th>ZN</th>\n",
              "      <td>True</td>\n",
              "      <td>False</td>\n",
              "      <td>True</td>\n",
              "      <td>True</td>\n",
              "      <td>True</td>\n",
              "      <td>True</td>\n",
              "      <td>True</td>\n",
              "      <td>True</td>\n",
              "      <td>True</td>\n",
              "      <td>True</td>\n",
              "      <td>True</td>\n",
              "      <td>True</td>\n",
              "      <td>True</td>\n",
              "    </tr>\n",
              "    <tr>\n",
              "      <th>INDUS</th>\n",
              "      <td>True</td>\n",
              "      <td>True</td>\n",
              "      <td>False</td>\n",
              "      <td>True</td>\n",
              "      <td>False</td>\n",
              "      <td>True</td>\n",
              "      <td>True</td>\n",
              "      <td>True</td>\n",
              "      <td>True</td>\n",
              "      <td>False</td>\n",
              "      <td>True</td>\n",
              "      <td>True</td>\n",
              "      <td>True</td>\n",
              "    </tr>\n",
              "    <tr>\n",
              "      <th>CHAS</th>\n",
              "      <td>True</td>\n",
              "      <td>True</td>\n",
              "      <td>True</td>\n",
              "      <td>False</td>\n",
              "      <td>True</td>\n",
              "      <td>True</td>\n",
              "      <td>True</td>\n",
              "      <td>True</td>\n",
              "      <td>True</td>\n",
              "      <td>True</td>\n",
              "      <td>True</td>\n",
              "      <td>True</td>\n",
              "      <td>True</td>\n",
              "    </tr>\n",
              "    <tr>\n",
              "      <th>NOX</th>\n",
              "      <td>True</td>\n",
              "      <td>True</td>\n",
              "      <td>False</td>\n",
              "      <td>True</td>\n",
              "      <td>False</td>\n",
              "      <td>True</td>\n",
              "      <td>False</td>\n",
              "      <td>True</td>\n",
              "      <td>True</td>\n",
              "      <td>True</td>\n",
              "      <td>True</td>\n",
              "      <td>True</td>\n",
              "      <td>True</td>\n",
              "    </tr>\n",
              "    <tr>\n",
              "      <th>RM</th>\n",
              "      <td>True</td>\n",
              "      <td>True</td>\n",
              "      <td>True</td>\n",
              "      <td>True</td>\n",
              "      <td>True</td>\n",
              "      <td>False</td>\n",
              "      <td>True</td>\n",
              "      <td>True</td>\n",
              "      <td>True</td>\n",
              "      <td>True</td>\n",
              "      <td>True</td>\n",
              "      <td>True</td>\n",
              "      <td>True</td>\n",
              "    </tr>\n",
              "    <tr>\n",
              "      <th>AGE</th>\n",
              "      <td>True</td>\n",
              "      <td>True</td>\n",
              "      <td>True</td>\n",
              "      <td>True</td>\n",
              "      <td>False</td>\n",
              "      <td>True</td>\n",
              "      <td>False</td>\n",
              "      <td>True</td>\n",
              "      <td>True</td>\n",
              "      <td>True</td>\n",
              "      <td>True</td>\n",
              "      <td>True</td>\n",
              "      <td>True</td>\n",
              "    </tr>\n",
              "    <tr>\n",
              "      <th>DIS</th>\n",
              "      <td>True</td>\n",
              "      <td>True</td>\n",
              "      <td>True</td>\n",
              "      <td>True</td>\n",
              "      <td>True</td>\n",
              "      <td>True</td>\n",
              "      <td>True</td>\n",
              "      <td>False</td>\n",
              "      <td>True</td>\n",
              "      <td>True</td>\n",
              "      <td>True</td>\n",
              "      <td>True</td>\n",
              "      <td>True</td>\n",
              "    </tr>\n",
              "    <tr>\n",
              "      <th>RAD</th>\n",
              "      <td>True</td>\n",
              "      <td>True</td>\n",
              "      <td>True</td>\n",
              "      <td>True</td>\n",
              "      <td>True</td>\n",
              "      <td>True</td>\n",
              "      <td>True</td>\n",
              "      <td>True</td>\n",
              "      <td>False</td>\n",
              "      <td>False</td>\n",
              "      <td>True</td>\n",
              "      <td>True</td>\n",
              "      <td>True</td>\n",
              "    </tr>\n",
              "    <tr>\n",
              "      <th>TAX</th>\n",
              "      <td>True</td>\n",
              "      <td>True</td>\n",
              "      <td>False</td>\n",
              "      <td>True</td>\n",
              "      <td>True</td>\n",
              "      <td>True</td>\n",
              "      <td>True</td>\n",
              "      <td>True</td>\n",
              "      <td>False</td>\n",
              "      <td>False</td>\n",
              "      <td>True</td>\n",
              "      <td>True</td>\n",
              "      <td>True</td>\n",
              "    </tr>\n",
              "    <tr>\n",
              "      <th>PTRATIO</th>\n",
              "      <td>True</td>\n",
              "      <td>True</td>\n",
              "      <td>True</td>\n",
              "      <td>True</td>\n",
              "      <td>True</td>\n",
              "      <td>True</td>\n",
              "      <td>True</td>\n",
              "      <td>True</td>\n",
              "      <td>True</td>\n",
              "      <td>True</td>\n",
              "      <td>False</td>\n",
              "      <td>True</td>\n",
              "      <td>True</td>\n",
              "    </tr>\n",
              "    <tr>\n",
              "      <th>B</th>\n",
              "      <td>True</td>\n",
              "      <td>True</td>\n",
              "      <td>True</td>\n",
              "      <td>True</td>\n",
              "      <td>True</td>\n",
              "      <td>True</td>\n",
              "      <td>True</td>\n",
              "      <td>True</td>\n",
              "      <td>True</td>\n",
              "      <td>True</td>\n",
              "      <td>True</td>\n",
              "      <td>False</td>\n",
              "      <td>True</td>\n",
              "    </tr>\n",
              "    <tr>\n",
              "      <th>LSTAT</th>\n",
              "      <td>True</td>\n",
              "      <td>True</td>\n",
              "      <td>True</td>\n",
              "      <td>True</td>\n",
              "      <td>True</td>\n",
              "      <td>True</td>\n",
              "      <td>True</td>\n",
              "      <td>True</td>\n",
              "      <td>True</td>\n",
              "      <td>True</td>\n",
              "      <td>True</td>\n",
              "      <td>True</td>\n",
              "      <td>False</td>\n",
              "    </tr>\n",
              "  </tbody>\n",
              "</table>\n",
              "</div>"
            ],
            "text/plain": [
              "          CRIM     ZN  INDUS   CHAS    NOX  ...    RAD    TAX  PTRATIO      B  LSTAT\n",
              "CRIM     False   True   True   True   True  ...   True   True     True   True   True\n",
              "ZN        True  False   True   True   True  ...   True   True     True   True   True\n",
              "INDUS     True   True  False   True  False  ...   True  False     True   True   True\n",
              "CHAS      True   True   True  False   True  ...   True   True     True   True   True\n",
              "NOX       True   True  False   True  False  ...   True   True     True   True   True\n",
              "RM        True   True   True   True   True  ...   True   True     True   True   True\n",
              "AGE       True   True   True   True  False  ...   True   True     True   True   True\n",
              "DIS       True   True   True   True   True  ...   True   True     True   True   True\n",
              "RAD       True   True   True   True   True  ...  False  False     True   True   True\n",
              "TAX       True   True  False   True   True  ...  False  False     True   True   True\n",
              "PTRATIO   True   True   True   True   True  ...   True   True    False   True   True\n",
              "B         True   True   True   True   True  ...   True   True     True  False   True\n",
              "LSTAT     True   True   True   True   True  ...   True   True     True   True  False\n",
              "\n",
              "[13 rows x 13 columns]"
            ]
          },
          "metadata": {
            "tags": []
          },
          "execution_count": 208
        }
      ]
    },
    {
      "cell_type": "markdown",
      "metadata": {
        "id": "xpBYmCqn4S_8",
        "colab_type": "text"
      },
      "source": [
        "Drop features > 0.7"
      ]
    },
    {
      "cell_type": "code",
      "metadata": {
        "id": "1ddsQsL2hK8u",
        "colab_type": "code",
        "colab": {}
      },
      "source": [
        "for_drop = ['TAX', 'NOX']\n",
        "#if dorop other not corr\n",
        "boston.drop(for_drop, axis=1, inplace=True)"
      ],
      "execution_count": 0,
      "outputs": []
    },
    {
      "cell_type": "code",
      "metadata": {
        "id": "vXOfkvBVhK7b",
        "colab_type": "code",
        "colab": {}
      },
      "source": [
        "y = data.target\n",
        "#becouse we drop features and  new scaled\n",
        "scaled = StandardScaler().fit_transform(boston.values)"
      ],
      "execution_count": 0,
      "outputs": []
    },
    {
      "cell_type": "markdown",
      "metadata": {
        "id": "ufKqwD-046R3",
        "colab_type": "text"
      },
      "source": [
        "#### PCA"
      ]
    },
    {
      "cell_type": "code",
      "metadata": {
        "id": "SlMRsehDhK15",
        "colab_type": "code",
        "outputId": "297b4811-7e01-4797-b220-1d5c59c6730b",
        "colab": {
          "base_uri": "https://localhost:8080/",
          "height": 235
        }
      },
      "source": [
        "pca = PCA()\n",
        "pca.fit_transform(scaled)"
      ],
      "execution_count": 212,
      "outputs": [
        {
          "output_type": "execute_result",
          "data": {
            "text/plain": [
              "array([[-2.08292818,  0.6126599 ,  0.09682815, ..., -0.19007916,\n",
              "         0.6014377 ,  0.00365196],\n",
              "       [-0.96214616,  0.41409172, -0.62228074, ...,  0.00595958,\n",
              "         0.11854107, -0.60324611],\n",
              "       [-1.69131767,  0.6046188 ,  0.12466031, ...,  0.17521431,\n",
              "        -0.21868648, -0.47856525],\n",
              "       ...,\n",
              "       [-0.08233356,  0.97266373, -0.45859333, ...,  1.0938279 ,\n",
              "         0.40556079,  0.14452809],\n",
              "       [-0.02887484,  0.81924814, -0.603836  , ...,  1.05133776,\n",
              "         0.40850735,  0.11071548],\n",
              "       [ 0.15697879,  0.39514282, -1.24620753, ...,  0.94128188,\n",
              "         0.65674938,  0.20343227]])"
            ]
          },
          "metadata": {
            "tags": []
          },
          "execution_count": 212
        }
      ]
    },
    {
      "cell_type": "markdown",
      "metadata": {
        "id": "jeV8j5YO5moa",
        "colab_type": "text"
      },
      "source": [
        "Теперь мы хотим знать, сколько основных компонентов мы можем выбрать для нашего нового подпространства функций? \n",
        "\n",
        "Объясненный коэффициент дисперсии (**explained variance ratio**) говорит нам, сколько информации (дисперсии) можно отнести к каждому из основных компонентов."
      ]
    },
    {
      "cell_type": "code",
      "metadata": {
        "id": "zVQwoKgxhK0D",
        "colab_type": "code",
        "outputId": "25c859e6-cadc-45c0-b661-5ba219870d41",
        "colab": {
          "base_uri": "https://localhost:8080/",
          "height": 67
        }
      },
      "source": [
        "pca.explained_variance_ratio_"
      ],
      "execution_count": 213,
      "outputs": [
        {
          "output_type": "execute_result",
          "data": {
            "text/plain": [
              "array([0.43506275, 0.11958542, 0.10521326, 0.07723676, 0.07160087,\n",
              "       0.05736366, 0.03966308, 0.03427538, 0.02363534, 0.0196289 ,\n",
              "       0.01673459])"
            ]
          },
          "metadata": {
            "tags": []
          },
          "execution_count": 213
        }
      ]
    },
    {
      "cell_type": "markdown",
      "metadata": {
        "id": "S6lZzgSKM02x",
        "colab_type": "text"
      },
      "source": [
        "Check num components for .80"
      ]
    },
    {
      "cell_type": "code",
      "metadata": {
        "id": "YhgVhamUMssD",
        "colab_type": "code",
        "outputId": "92a17bf2-8934-466c-d35d-3471d23d5a21",
        "colab": {
          "base_uri": "https://localhost:8080/",
          "height": 34
        }
      },
      "source": [
        "pca = PCA(0.8).fit(scaled)\n",
        "pca.n_components_"
      ],
      "execution_count": 214,
      "outputs": [
        {
          "output_type": "execute_result",
          "data": {
            "text/plain": [
              "5"
            ]
          },
          "metadata": {
            "tags": []
          },
          "execution_count": 214
        }
      ]
    },
    {
      "cell_type": "markdown",
      "metadata": {
        "id": "5eswVRVaCodn",
        "colab_type": "text"
      },
      "source": [
        "R2 - соответствие модели данным\n",
        "\n",
        "RMSE -Насколько в среднем похожи числа"
      ]
    },
    {
      "cell_type": "code",
      "metadata": {
        "id": "RGaQWesahKuj",
        "colab_type": "code",
        "colab": {}
      },
      "source": [
        "def what_best(X, y, pca = False, scale = False):\n",
        "  \"\"\"\n",
        "  Здесь мы вычислили R в квадрате, определяемую как метрику, которая количественно\n",
        "  определяет величину дисперсии в целевой переменной, которая прогнозируется \n",
        "  из переменной признака и RMSE (среднеквадратичное значение).\n",
        "  \"\"\"  \n",
        "  from sklearn.linear_model import LinearRegression\n",
        "  from sklearn.metrics import mean_squared_error\n",
        "  from sklearn.model_selection import train_test_split\n",
        "\n",
        "  X_train, X_test,y_train, y_test = train_test_split(X, y, test_size=0.3, random_state=13)\n",
        "  #scale\n",
        "  if scale:\n",
        "    s = StandardScaler().fit(X_train)\n",
        "    X_train = s.transform(X_train)\n",
        "    X_test = s.transform(X_test)\n",
        "  #pca\n",
        "  if pca:\n",
        "    pca = PCA(n_components=3)\n",
        "    pca.fit(X_train)\n",
        "\n",
        "    X_train = pca.transform(X_train)\n",
        "    X_test = pca.transform(X_test)\n",
        "\n",
        "  ##model\n",
        "  lr = LinearRegression()\n",
        "  lr.fit(X_train, y_train)\n",
        "  pred = lr.predict(X_test)\n",
        "\n",
        "  ##return\n",
        "  r2 = lr.score(X_test, y_test)\n",
        "  rmse = np.sqrt(mean_squared_error(y_test, pred))\n",
        "  print('R2 score is {}'.format(r2))\n",
        "  print('RMSE is {}'.format(rmse))"
      ],
      "execution_count": 0,
      "outputs": []
    },
    {
      "cell_type": "code",
      "metadata": {
        "id": "cxE1RrahE3pu",
        "colab_type": "code",
        "outputId": "5923dea9-7303-435e-a411-70de1d899356",
        "colab": {
          "base_uri": "https://localhost:8080/",
          "height": 319
        }
      },
      "source": [
        "%time\n",
        "print('___')\n",
        "print('All false')\n",
        "what_best(boston.values, y, pca = False, scale = False)\n",
        "print('___')\n",
        "print('PCA')\n",
        "what_best(boston.values, y, pca = True, scale = False)\n",
        "print('___')\n",
        "print(\"PCA&Scale\")\n",
        "what_best(boston.values, y, pca = True, scale = True)\n",
        "print('___')\n",
        "print('Only Scale')\n",
        "what_best(boston.values, y, pca = False, scale = True)"
      ],
      "execution_count": 0,
      "outputs": [
        {
          "output_type": "stream",
          "text": [
            "CPU times: user 2 µs, sys: 0 ns, total: 2 µs\n",
            "Wall time: 6.2 µs\n",
            "___\n",
            "All false\n",
            "R2 score is 0.686650997079624\n",
            "RMSE is 5.087557849555481\n",
            "___\n",
            "PCA\n",
            "R2 score is 0.19098014663224483\n",
            "RMSE is 8.174755867082972\n",
            "___\n",
            "PCA&Scale\n",
            "R2 score is 0.5978552189466066\n",
            "RMSE is 5.763501631411967\n",
            "___\n",
            "Only Scale\n",
            "R2 score is 0.6866509970796237\n",
            "RMSE is 5.087557849555484\n"
          ],
          "name": "stdout"
        }
      ]
    },
    {
      "cell_type": "markdown",
      "metadata": {
        "id": "Iak4MB-3gVBa",
        "colab_type": "text"
      },
      "source": [
        "### #"
      ]
    },
    {
      "cell_type": "code",
      "metadata": {
        "id": "rSEU-TNvisx1",
        "colab_type": "code",
        "colab": {
          "base_uri": "https://localhost:8080/",
          "height": 286
        },
        "outputId": "81c23544-2ab9-47d5-f74d-b9f2d36d5721"
      },
      "source": [
        "X, y = make_regression(n_samples=100, n_features=2, n_informative=2, tail_strength=.2, effective_rank=True, random_state=1)\n",
        "plt.scatter(X[:, 0], X[:, 1])"
      ],
      "execution_count": 221,
      "outputs": [
        {
          "output_type": "execute_result",
          "data": {
            "text/plain": [
              "<matplotlib.collections.PathCollection at 0x7f7132303dd8>"
            ]
          },
          "metadata": {
            "tags": []
          },
          "execution_count": 221
        },
        {
          "output_type": "display_data",
          "data": {
            "image/png": "[encoded data removed]",
            "text/plain": [
              "<Figure size 432x288 with 1 Axes>"
            ]
          },
          "metadata": {
            "tags": []
          }
        }
      ]
    },
    {
      "cell_type": "code",
      "metadata": {
        "id": "62_UTxENTWNd",
        "colab_type": "code",
        "colab": {}
      },
      "source": [
        "x1 = X[:, 0] - X[:, 0].mean()\n",
        "x2 = X[:, 1] - X[:, 1].mean()\n",
        "Xcentred = np.vstack((x1, x2))"
      ],
      "execution_count": 0,
      "outputs": []
    },
    {
      "cell_type": "code",
      "metadata": {
        "id": "Ru3e04NZKGgu",
        "colab_type": "code",
        "outputId": "5d052ac0-ae9c-4f15-815e-e7a1ce866050",
        "colab": {
          "base_uri": "https://localhost:8080/",
          "height": 50
        }
      },
      "source": [
        "cov = np.cov(Xcentred)\n",
        "e_value,e_vector = np.linalg.eig(cov)\n",
        "e_vector"
      ],
      "execution_count": 225,
      "outputs": [
        {
          "output_type": "execute_result",
          "data": {
            "text/plain": [
              "array([[ 0.81208104, -0.58354468],\n",
              "       [ 0.58354468,  0.81208104]])"
            ]
          },
          "metadata": {
            "tags": []
          },
          "execution_count": 225
        }
      ]
    },
    {
      "cell_type": "code",
      "metadata": {
        "id": "XSLBrRT3jUGR",
        "colab_type": "code",
        "colab": {
          "base_uri": "https://localhost:8080/",
          "height": 34
        },
        "outputId": "698626ae-9954-40cc-9628-e179b2b7c63c"
      },
      "source": [
        "variance_ratio(e_value)"
      ],
      "execution_count": 226,
      "outputs": [
        {
          "output_type": "execute_result",
          "data": {
            "text/plain": [
              "[0.805492794171545, 0.19450720582845504]"
            ]
          },
          "metadata": {
            "tags": []
          },
          "execution_count": 226
        }
      ]
    },
    {
      "cell_type": "markdown",
      "metadata": {
        "id": "mvcea-z_2eVa",
        "colab_type": "text"
      },
      "source": [
        "#### how plot components"
      ]
    },
    {
      "cell_type": "code",
      "metadata": {
        "id": "_2tDgR_3J8tU",
        "colab_type": "code",
        "outputId": "64a1266e-250a-4044-e3bd-bcda77bf2486",
        "colab": {
          "base_uri": "https://localhost:8080/",
          "height": 286
        }
      },
      "source": [
        "plt.scatter(Xcentred[0], Xcentred[1])\n",
        "plt.quiver(0, 0, e_vector[:, 0], e_vector[:, 1],  scale = 5, angles = 'xy')"
      ],
      "execution_count": 268,
      "outputs": [
        {
          "output_type": "execute_result",
          "data": {
            "text/plain": [
              "<matplotlib.quiver.Quiver at 0x7f71321bac50>"
            ]
          },
          "metadata": {
            "tags": []
          },
          "execution_count": 268
        },
        {
          "output_type": "display_data",
          "data": {
            "image/png": "[encoded data removed]",
            "text/plain": [
              "<Figure size 432x288 with 1 Axes>"
            ]
          },
          "metadata": {
            "tags": []
          }
        }
      ]
    },
    {
      "cell_type": "code",
      "metadata": {
        "id": "fKt0GhfexzeD",
        "colab_type": "code",
        "colab": {
          "base_uri": "https://localhost:8080/",
          "height": 269
        },
        "outputId": "0d8577e8-0067-447e-f3e6-293255b7e911"
      },
      "source": [
        "plt.scatter(Xcentred[0], Xcentred[1])\n",
        "for l, v in zip(ratio, e_vector):\n",
        "  d = 0.3* np.sqrt(l) * v\n",
        "  plt.quiver(0, 0, [0, d[0]], [0, d[1]], scale = 1, angles = 'xy')\n",
        "  plt.plot([0, d[0]], [0, d[1]], '--k', lw=1)\n",
        " "
      ],
      "execution_count": 260,
      "outputs": [
        {
          "output_type": "display_data",
          "data": {
            "image/png": "[encoded data removed]",
            "text/plain": [
              "<Figure size 432x288 with 1 Axes>"
            ]
          },
          "metadata": {
            "tags": []
          }
        }
      ]
    },
    {
      "cell_type": "markdown",
      "metadata": {
        "id": "7zNfc_xqvnWf",
        "colab_type": "text"
      },
      "source": [
        "### How many main components are enough to leave"
      ]
    },
    {
      "cell_type": "code",
      "metadata": {
        "id": "mXGV5CyvwHpo",
        "colab_type": "code",
        "colab": {}
      },
      "source": [
        "X, y = make_regression(n_samples=100, n_features=30, n_informative=30, tail_strength=.6, effective_rank=True, random_state=1)"
      ],
      "execution_count": 0,
      "outputs": []
    },
    {
      "cell_type": "code",
      "metadata": {
        "id": "lyLkqMzCvp2W",
        "colab_type": "code",
        "colab": {
          "base_uri": "https://localhost:8080/",
          "height": 446
        },
        "outputId": "4c3d995f-5054-4277-8890-c7e9ccf15654"
      },
      "source": [
        "pca = PCA().fit(X)\n",
        "plt.figure(figsize=(10,7))\n",
        "#Return the cumulative sum of the elements along a given axis [1,2,3] >> 1, 1+2=3, 3+3 =6>> 1,3,6\n",
        "plt.plot(np.cumsum(pca.explained_variance_ratio_), color='k', lw=2)\n",
        "plt.xlabel('Number of components')\n",
        "plt.ylabel('Total explained variance')\n",
        "plt.xlim(0, 30)\n",
        "plt.yticks(np.arange(0, 1.1, 0.1))\n",
        "plt.axvline(9, c='b')\n",
        "plt.axhline(0.9, c='r')\n",
        "plt.show()"
      ],
      "execution_count": 241,
      "outputs": [
        {
          "output_type": "display_data",
          "data": {
            "image/png": "[encoded data removed]",
            "text/plain": [
              "<Figure size 720x504 with 1 Axes>"
            ]
          },
          "metadata": {
            "tags": []
          }
        }
      ]
    }
  ]
}