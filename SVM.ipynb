{
  "nbformat": 4,
  "nbformat_minor": 0,
  "metadata": {
    "colab": {
      "name": "SVM.ipynb",
      "provenance": [],
      "collapsed_sections": [],
      "include_colab_link": true
    },
    "kernelspec": {
      "name": "python3",
      "display_name": "Python 3"
    }
  },
  "cells": [
    {
      "cell_type": "markdown",
      "metadata": {
        "id": "view-in-github",
        "colab_type": "text"
      },
      "source": [
        "<a href=\"https://colab.research.google.com/github/beifa/ML-models/blob/master/SVM.ipynb\" target=\"_parent\"><img src=\"https://colab.research.google.com/assets/colab-badge.svg\" alt=\"Open In Colab\"/></a>"
      ]
    },
    {
      "cell_type": "code",
      "metadata": {
        "id": "8_uE6LjNKvQI",
        "colab_type": "code",
        "colab": {}
      },
      "source": [
        "import numpy as np\n",
        "import math\n",
        "import matplotlib.pyplot as plt\n",
        "from sklearn import datasets\n",
        "from sklearn.svm import SVC"
      ],
      "execution_count": 0,
      "outputs": []
    },
    {
      "cell_type": "markdown",
      "metadata": {
        "id": "pedez-cnTVFY",
        "colab_type": "text"
      },
      "source": [
        "### Magnitude or length vector\n",
        "\n",
        "We call norm ||x||, use Pythagorean theorem:\n",
        "hypotenuse = ab\n",
        "cathet = ac and bc\n",
        "$$ ab^2 = ac^2 + bc^2  $$\n",
        "$$ ab^2 = \\sum(ac^2, bc^2) $$\n",
        "$$ ab = \\sqrt\\sum(ac, bc)$$\n",
        "$$ ||ab|| = ab = \\sqrt\\sum(ac, bc)$$\n",
        "\n",
        "\n",
        "\n"
      ]
    },
    {
      "cell_type": "code",
      "metadata": {
        "id": "09g4DOsWSk3a",
        "colab_type": "code",
        "outputId": "585b0d55-2582-4101-84a1-de7161ab8712",
        "colab": {
          "base_uri": "https://localhost:8080/",
          "height": 34
        }
      },
      "source": [
        "#Magnitude or length vector\n",
        "\"\"\"\n",
        "1*1 + 2*2 = 1 + 4= 5, sqrt5\n",
        "\"\"\"\n",
        "x = [1,2]\n",
        "np.linalg.norm(x)"
      ],
      "execution_count": 0,
      "outputs": [
        {
          "output_type": "execute_result",
          "data": {
            "text/plain": [
              "2.23606797749979"
            ]
          },
          "metadata": {
            "tags": []
          },
          "execution_count": 2
        }
      ]
    },
    {
      "cell_type": "markdown",
      "metadata": {
        "id": "QB-wzH3Wr-PI",
        "colab_type": "text"
      },
      "source": [
        "### Direction vector"
      ]
    },
    {
      "cell_type": "code",
      "metadata": {
        "id": "QpZDxKR_ZxUh",
        "colab_type": "code",
        "outputId": "5fcce096-fe65-4d38-887a-781e10ed6217",
        "colab": {
          "base_uri": "https://localhost:8080/",
          "height": 34
        }
      },
      "source": [
        "direction = x / np.linalg.norm(x)\n",
        "direction"
      ],
      "execution_count": 0,
      "outputs": [
        {
          "output_type": "execute_result",
          "data": {
            "text/plain": [
              "array([0.4472136 , 0.89442719])"
            ]
          },
          "metadata": {
            "tags": []
          },
          "execution_count": 3
        }
      ]
    },
    {
      "cell_type": "markdown",
      "metadata": {
        "id": "253MRLLasE5K",
        "colab_type": "text"
      },
      "source": [
        "### Dot product\n",
        "\n",
        "$$x * y = ||x||*||y||*\\cos(\\theta)$$\n",
        "\n"
      ]
    },
    {
      "cell_type": "code",
      "metadata": {
        "id": "PZUwPW17s3Ya",
        "colab_type": "code",
        "colab": {}
      },
      "source": [
        "a = np.array([5, 3])\n",
        "b = np.array([7, 2])"
      ],
      "execution_count": 0,
      "outputs": []
    },
    {
      "cell_type": "code",
      "metadata": {
        "id": "4ehofyEPv9a6",
        "colab_type": "code",
        "outputId": "1b58affb-0a06-47eb-b69d-d99ff6c248e7",
        "colab": {
          "base_uri": "https://localhost:8080/",
          "height": 281
        }
      },
      "source": [
        "plt.quiver([0, 0], [0, 0], a, b, angles='xy', scale_units='xy', scale=1, color= ['r', 'g'])\n",
        "plt.xlim(-1, 6)\n",
        "plt.ylim(-1, 9)\n",
        "plt.title('Vectors');"
      ],
      "execution_count": 0,
      "outputs": [
        {
          "output_type": "display_data",
          "data": {
            "image/png": "[encoded data removed]",
            "text/plain": [
              "<Figure size 432x288 with 1 Axes>"
            ]
          },
          "metadata": {
            "tags": []
          }
        }
      ]
    },
    {
      "cell_type": "code",
      "metadata": {
        "id": "35eAG_QCsVz_",
        "colab_type": "code",
        "outputId": "ad969f33-6bec-4e0b-ccda-f26c641108c2",
        "colab": {
          "base_uri": "https://localhost:8080/",
          "height": 50
        }
      },
      "source": [
        "a_norm = np.linalg.norm(a)\n",
        "b_norm = np.linalg.norm(b)\n",
        "angle = np.dot(a,b) / a_norm / b_norm\n",
        "angle = math.acos(angle)#radians\n",
        "#theta = angle * 360 / 2 / np.pi\n",
        "print('angle: ', theta)\n",
        "a_norm * b_norm * math.cos(angle)"
      ],
      "execution_count": 0,
      "outputs": [
        {
          "output_type": "stream",
          "text": [
            "angle:  45.00000000000001\n"
          ],
          "name": "stdout"
        },
        {
          "output_type": "execute_result",
          "data": {
            "text/plain": [
              "41.0"
            ]
          },
          "metadata": {
            "tags": []
          },
          "execution_count": 66
        }
      ]
    },
    {
      "cell_type": "code",
      "metadata": {
        "id": "cOVT38c56nde",
        "colab_type": "code",
        "outputId": "e7664c46-ea4d-46ed-945b-7266a74cd604",
        "colab": {
          "base_uri": "https://localhost:8080/",
          "height": 34
        }
      },
      "source": [
        "np.dot(a, b)"
      ],
      "execution_count": 0,
      "outputs": [
        {
          "output_type": "execute_result",
          "data": {
            "text/plain": [
              "41"
            ]
          },
          "metadata": {
            "tags": []
          },
          "execution_count": 65
        }
      ]
    },
    {
      "cell_type": "markdown",
      "metadata": {
        "id": "5mDB31VOBloK",
        "colab_type": "text"
      },
      "source": [
        "### Hyperplane"
      ]
    },
    {
      "cell_type": "code",
      "metadata": {
        "id": "VBDSUF-Li3Zr",
        "colab_type": "code",
        "colab": {}
      },
      "source": [
        "iris = datasets.load_iris()\n",
        "X = iris.data[:, :2]  # we only take the first two features.\n",
        "y = iris.target"
      ],
      "execution_count": 0,
      "outputs": []
    },
    {
      "cell_type": "code",
      "metadata": {
        "id": "j_TiJT8jjNLL",
        "colab_type": "code",
        "colab": {}
      },
      "source": [
        "idx = np.where(y ==2)\n",
        "#i need first elemet for split only two class\n",
        "second_element = idx[0][0]\n",
        "X= X[:second_element]\n",
        "y = y[:second_element]"
      ],
      "execution_count": 0,
      "outputs": []
    },
    {
      "cell_type": "code",
      "metadata": {
        "id": "FmhFK3IXpc_P",
        "colab_type": "code",
        "outputId": "6667baaf-2423-4f43-9783-10ecb60dc9cd",
        "colab": {
          "base_uri": "https://localhost:8080/",
          "height": 295
        }
      },
      "source": [
        "def plot_hyperplane(X, y, min_x, max_x, title, w, svm = False):\n",
        "    \"\"\"\n",
        "    plot hyperline on iris data and we use sklern.svm\n",
        "    \n",
        "    \"\"\"    \n",
        "    min_x = np.min(X[:, 0])\n",
        "    max_x = np.max(X[:, 0])\n",
        "    \n",
        "    if svm:\n",
        "      clf = SVC(kernel = 'linear').fit(X,y)      \n",
        "      w = clf.coef_[0]\n",
        "      a = -w[0] / w[1]\n",
        "      x = np.linspace(min_x, max_x)  # make line\n",
        "      yy = a * x - (clf.intercept_[0]) / w[1]\n",
        "    else:      \n",
        "      b=w[0]    \n",
        "      x = np.linspace(min_x, max_x)\n",
        "      yy = -(w[1] * x + b)/w[2]\n",
        "\n",
        "    plt.plot(x, yy, 'k--')\n",
        "    plt.scatter(X[:, 0], X[:, 1], c = y, cmap=plt.cm.Set1)\n",
        "    plt.xlabel('Sepal length')\n",
        "    plt.ylabel('Sepal width')\n",
        "    plt.title(title);\n",
        "\n",
        "plot_hyperplane(X,y, min_x, max_x, 'Test data for hyperplane', w, svm = True)"
      ],
      "execution_count": 0,
      "outputs": [
        {
          "output_type": "display_data",
          "data": {
            "image/png": "[encoded data removed]",
            "text/plain": [
              "<Figure size 432x288 with 1 Axes>"
            ]
          },
          "metadata": {
            "tags": []
          }
        }
      ]
    },
    {
      "cell_type": "code",
      "metadata": {
        "id": "6IHtfsqdu8VO",
        "colab_type": "code",
        "outputId": "30a8d998-8920-4350-f30c-809f5e574b3b",
        "colab": {
          "base_uri": "https://localhost:8080/",
          "height": 295
        }
      },
      "source": [
        "w = np.random.rand(3)\n",
        "plot_hyperplane(X, y, min_x, max_x, 'We randomly generate w and want to see how it looks.', w, svm = False)"
      ],
      "execution_count": 0,
      "outputs": [
        {
          "output_type": "display_data",
          "data": {
            "image/png": "[encoded data removed]",
            "text/plain": [
              "<Figure size 432x288 with 1 Axes>"
            ]
          },
          "metadata": {
            "tags": []
          }
        }
      ]
    },
    {
      "cell_type": "markdown",
      "metadata": {
        "id": "gdqdP3GZFeOs",
        "colab_type": "text"
      },
      "source": [
        "#### The Perceptron algorithm\n",
        "\n",
        "\n",
        "PLA - очень простой алгоритм, который можно обобщить следующим образом:\n",
        "1. Начните со случайной гиперплоскости (определяемой вектором) и используйте ее для классификации данных.\n",
        "2. Выберите неверно классифицированный пример и выберите другую гиперплоскость, обновив значение,\n",
        "надеясь, что это поможет лучше классифицировать этот пример (это называется правилом обновления).\n",
        "3. Классифицируйте данные с помощью этой новой гиперплоскости.\n",
        "4. Повторяйте шаги 2 и 3 до тех пор, пока не будет ошибочно рассмотренного примера.\n",
        "После завершения процесса у вас появляется гиперплоскость, разделяющая данные.\n",
        "\n",
        "\n",
        "\n",
        "$$h(x_i) = sign(w * x_i)$$"
      ]
    },
    {
      "cell_type": "markdown",
      "metadata": {
        "id": "NGQa2cmc4fx1",
        "colab_type": "text"
      },
      "source": [
        "w random\n",
        "\n",
        "make predict and return error\n",
        "\n",
        "-while (list of errors and we loop it\n",
        "         update removes incorrectly\n",
        "         classified values)\n",
        "\n",
        "         randomly from the list we take the value we find its index\n",
        "         and return the value and its label\n",
        "\n",
        "         update (w)\n",
        "\n",
        "         run the predicate again, which in theory should reduce the list\n",
        "         until it is empty\n",
        "return w"
      ]
    },
    {
      "cell_type": "code",
      "metadata": {
        "id": "T0xC2tx1UZRV",
        "colab_type": "code",
        "colab": {}
      },
      "source": [
        "X_intercept = np.c_[np.ones(X.shape[0]), X]"
      ],
      "execution_count": 0,
      "outputs": []
    },
    {
      "cell_type": "code",
      "metadata": {
        "id": "ihpAMtIcePkl",
        "colab_type": "code",
        "colab": {}
      },
      "source": [
        "#вот я затупок, а читать к то будет че делает sign\n",
        "#change y =0 to y = -1\n",
        "y_change = y.copy()\n",
        "y_change = np.where(y != 0, y_change, -1)"
      ],
      "execution_count": 0,
      "outputs": []
    },
    {
      "cell_type": "code",
      "metadata": {
        "id": "tBdg2p7QJo33",
        "colab_type": "code",
        "colab": {}
      },
      "source": [
        "def hypo(X,w):\n",
        "  return np.sign(np.dot(w, X.T))\n",
        "\n",
        "def predict(X, y, w):\n",
        "  pred = hypo(X, w)  \n",
        "  error_list = X[pred != y]  \n",
        "  return error_list\n",
        "\n",
        "def one(X, y, error):\n",
        "  \"\"\"\n",
        "  return row and y\n",
        "  \n",
        "  \"\"\"\n",
        "  np.random.shuffle(error) \n",
        "  x = error[0]\n",
        "  index = np.where(np.all(X==x, axis=1))\n",
        "  return x, y[index]\n"
      ],
      "execution_count": 0,
      "outputs": []
    },
    {
      "cell_type": "code",
      "metadata": {
        "id": "7hf11fFEJo71",
        "colab_type": "code",
        "colab": {}
      },
      "source": [
        "def p_algoritm(X, y):\n",
        "  w = np.random.rand(X.shape[1])#intercept\n",
        "  #i need error classification examples\n",
        "  error_class = predict(X, y, w)  \n",
        "  while error_class.any():\n",
        "    #loop if not epmty\n",
        "    #1\n",
        "    x, y_valid = one(X, y, error_class)\n",
        "    #2 change w    \n",
        "    w = w + x * y_valid[0]\n",
        "    #   \n",
        "    error_class = predict(X, y, w)\n",
        "\n",
        "  return w\n",
        "\n",
        "w = p_algoritm(X_intercept, y_change)"
      ],
      "execution_count": 0,
      "outputs": []
    },
    {
      "cell_type": "code",
      "metadata": {
        "id": "TcoyxdVWePa6",
        "colab_type": "code",
        "outputId": "ea9908e6-7377-4591-e565-0240c06ca08f",
        "colab": {
          "base_uri": "https://localhost:8080/",
          "height": 295
        }
      },
      "source": [
        "plot_hyperplane(X, y, min_x, max_x, 'Plot hyperline by Perceptron Algoritm', w, svm = False)"
      ],
      "execution_count": 0,
      "outputs": [
        {
          "output_type": "display_data",
          "data": {
            "image/png": "[encoded data removed]",
            "text/plain": [
              "<Figure size 432x288 with 1 Axes>"
            ]
          },
          "metadata": {
            "tags": []
          }
        }
      ]
    },
    {
      "cell_type": "markdown",
      "metadata": {
        "id": "7I7Bgb-4GCK0",
        "colab_type": "text"
      },
      "source": [
        "#### Plot support line"
      ]
    },
    {
      "cell_type": "code",
      "metadata": {
        "id": "41WbYFYBGSZZ",
        "colab_type": "code",
        "outputId": "f6303024-d34a-429c-ef3a-79c53a66c5fd",
        "colab": {
          "base_uri": "https://localhost:8080/",
          "height": 312
        }
      },
      "source": [
        "clf = SVC(C =100, kernel = 'linear').fit(X,y)\n",
        "\n",
        "w = clf.coef_[0]\n",
        "a = -w[0] / w[1]\n",
        "x = np.linspace(min_x, max_x)  # make line\n",
        "yy = a * x - (clf.intercept_[0]) / w[1]\n",
        "\n",
        "b = clf.support_vectors_[0]\n",
        "yy_down = a * x + (b[1] - a * b[0])\n",
        "b = clf.support_vectors_[-1]\n",
        "yy_up = a * x + (b[1] - a * b[0])\n",
        "\"\"\"\n",
        "вот, а почему линии проходят по значениям, везде написано что так нельзя\n",
        "\"\"\"\n",
        "plt.plot(x, yy, 'k-')\n",
        "plt.plot(x, yy_down, 'k--')\n",
        "plt.plot(x, yy_up, 'k--')\n",
        "\n",
        "plt.scatter(X[:, 0], X[:, 1], c = y, cmap=plt.cm.Set1)\n",
        "plt.xlabel('Sepal length')\n",
        "plt.ylabel('Sepal width')\n",
        "plt.title('Plot by sklearn.SVM Support Line')\n"
      ],
      "execution_count": 0,
      "outputs": [
        {
          "output_type": "execute_result",
          "data": {
            "text/plain": [
              "Text(0.5, 1.0, 'Plot by sklearn.SVM Support Line')"
            ]
          },
          "metadata": {
            "tags": []
          },
          "execution_count": 82
        },
        {
          "output_type": "display_data",
          "data": {
            "image/png": "[encoded data removed]",
            "text/plain": [
              "<Figure size 432x288 with 1 Axes>"
            ]
          },
          "metadata": {
            "tags": []
          }
        }
      ]
    },
    {
      "cell_type": "markdown",
      "metadata": {
        "id": "y7_f7a_tXB9P",
        "colab_type": "text"
      },
      "source": [
        "SVM, насколько вы хотите избежать неправильной классификации каждого примера обучения. При больших значениях C оптимизация выберет гиперплоскость с меньшим запасом, если эта гиперплоскость лучше справится с правильной классификацией всех тренировочных точек. И наоборот, очень маленькое значение C заставит оптимизатор искать разделительную гиперплоскость с большим запасом, даже если эта гиперплоскость неправильно классифицирует больше точек. Для очень маленьких значений C вы должны получить неправильно классифицированные примеры, часто даже если ваши обучающие данные линейно разделимы."
      ]
    },
    {
      "cell_type": "code",
      "metadata": {
        "id": "XtA1bMiwGAwH",
        "colab_type": "code",
        "outputId": "4c45952a-0ce7-4392-e06f-a763851e70a4",
        "colab": {
          "base_uri": "https://localhost:8080/",
          "height": 286
        }
      },
      "source": [
        "clf.support_vectors_"
      ],
      "execution_count": 0,
      "outputs": [
        {
          "output_type": "execute_result",
          "data": {
            "text/plain": [
              "array([[4.9, 3. ],\n",
              "       [5.7, 3.8],\n",
              "       [5.4, 3.4],\n",
              "       [5. , 3. ],\n",
              "       [5.4, 3.4],\n",
              "       [5.5, 3.5],\n",
              "       [4.5, 2.3],\n",
              "       [4.8, 3. ],\n",
              "       [4.9, 2.4],\n",
              "       [5.2, 2.7],\n",
              "       [5.6, 3. ],\n",
              "       [5.9, 3.2],\n",
              "       [5.4, 3. ],\n",
              "       [6. , 3.4],\n",
              "       [5.6, 3. ],\n",
              "       [5.1, 2.5]])"
            ]
          },
          "metadata": {
            "tags": []
          },
          "execution_count": 188
        }
      ]
    },
    {
      "cell_type": "code",
      "metadata": {
        "id": "t_O1ZEtUGA7a",
        "colab_type": "code",
        "outputId": "371bb036-3729-4c17-e628-2b5027e1bbb0",
        "colab": {
          "base_uri": "https://localhost:8080/",
          "height": 34
        }
      },
      "source": [
        "#margin = 2 / ||w||?, but very small\n",
        "margin = 2 / np.linalg.norm(w)\n",
        "margin"
      ],
      "execution_count": 0,
      "outputs": [
        {
          "output_type": "execute_result",
          "data": {
            "text/plain": [
              "0.013005562251862009"
            ]
          },
          "metadata": {
            "tags": []
          },
          "execution_count": 76
        }
      ]
    },
    {
      "cell_type": "code",
      "metadata": {
        "id": "y85l4HTyGA-y",
        "colab_type": "code",
        "colab": {}
      },
      "source": [
        "\"\"\"\n",
        "не уверен я, что должны быть такие линни(узкий коридор), но с другой стороны тут нет оптимизации и даже видно , что можно лучше сделать плоскость\n",
        "но цель в правильной классификации и так сказать плоскости которую потом как я понимаю за счет оптимизации можно сделать лучше\n",
        "\"\"\"\n",
        "plt.figure(figsize=(10, 10))\n",
        "b=w[0]    \n",
        "x = np.linspace(min_x, max_x)\n",
        "yy = -(w[1] * x + b)/w[2]\n",
        "plt.plot(x, yy, 'k--')\n",
        "plt.plot(x, yy + margin, 'r-')\n",
        "plt.plot(x, yy - margin, 'b-')\n",
        "plt.scatter(X[:, 0], X[:, 1], c = y, cmap=plt.cm.Set1);"
      ],
      "execution_count": 0,
      "outputs": []
    },
    {
      "cell_type": "code",
      "metadata": {
        "id": "DOxaFejCF-Zx",
        "colab_type": "code",
        "colab": {}
      },
      "source": [
        "\"\"\"\n",
        "можно посмотреть как прошла классификация\n",
        "\"\"\"\n",
        "hypo(X_intercept, w)"
      ],
      "execution_count": 0,
      "outputs": []
    }
  ]
}