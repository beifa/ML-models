{
  "nbformat": 4,
  "nbformat_minor": 0,
  "metadata": {
    "colab": {
      "name": "Anomaly_detection.ipynb",
      "provenance": [],
      "collapsed_sections": [],
      "include_colab_link": true
    },
    "kernelspec": {
      "name": "python3",
      "display_name": "Python 3"
    }
  },
  "cells": [
    {
      "cell_type": "markdown",
      "metadata": {
        "id": "view-in-github",
        "colab_type": "text"
      },
      "source": [
        "<a href=\"https://colab.research.google.com/github/beifa/ML-models/blob/master/Anomaly_detection.ipynb\" target=\"_parent\"><img src=\"https://colab.research.google.com/assets/colab-badge.svg\" alt=\"Open In Colab\"/></a>"
      ]
    },
    {
      "cell_type": "code",
      "metadata": {
        "id": "e2JIFl-1Q7Ps",
        "colab_type": "code",
        "colab": {}
      },
      "source": [
        "%matplotlib inline\n",
        "from IPython.display import Image\n",
        "import matplotlib.pyplot as plt\n",
        "from matplotlib.animation import FuncAnimation\n",
        "import seaborn as sns\n",
        "import numpy as np \n",
        "import pandas as pd\n",
        "from sklearn.datasets import make_blobs, make_moons\n",
        "from sklearn.covariance import EllipticEnvelope\n",
        "from sklearn.svm import OneClassSVM\n"
      ],
      "execution_count": 0,
      "outputs": []
    },
    {
      "cell_type": "markdown",
      "metadata": {
        "id": "0RhCfvAe7T5M",
        "colab_type": "text"
      },
      "source": [
        "### Make data"
      ]
    },
    {
      "cell_type": "code",
      "metadata": {
        "id": "MSVzQcQRRSh5",
        "colab_type": "code",
        "colab": {}
      },
      "source": [
        "X1, y1 = make_moons(n_samples=150, noise=0.5, random_state=13)\n",
        "X2, y2 = make_blobs(n_samples= 20, n_features=2, centers=1, center_box=[-2, -2], random_state=13)"
      ],
      "execution_count": 0,
      "outputs": []
    },
    {
      "cell_type": "code",
      "metadata": {
        "id": "fdvVzU__RSYP",
        "colab_type": "code",
        "outputId": "5517d9f3-8e83-4d56-dd58-4d8eb91eba5c",
        "colab": {
          "base_uri": "https://localhost:8080/",
          "height": 268
        }
      },
      "source": [
        "X = np.concatenate((X1, X2), axis = 0)\n",
        "y = np.concatenate((y1, y2), axis = 0)\n",
        "plt.scatter(X[:, 0],X[:, 1])\n",
        "plt.title('Data')\n",
        "plt.xticks(())\n",
        "plt.yticks(());"
      ],
      "execution_count": 0,
      "outputs": [
        {
          "output_type": "display_data",
          "data": {
            "image/png": "[encoded data removed]",
            "text/plain": [
              "<Figure size 432x288 with 1 Axes>"
            ]
          },
          "metadata": {
            "tags": []
          }
        }
      ]
    },
    {
      "cell_type": "markdown",
      "metadata": {
        "id": "JBDiNv9N7X8J",
        "colab_type": "text"
      },
      "source": [
        "### Gaussian distribution"
      ]
    },
    {
      "cell_type": "markdown",
      "metadata": {
        "id": "rg-imFMvbavR",
        "colab_type": "text"
      },
      "source": [
        "Гауссово распределение\n",
        "Чтобы выполнить обнаружение аномалий, вам сначала нужно будет подогнать модель к распределению данных. Учитывая обучающий набор {x (1),…, x (m)}\n",
        "(где x (i) ∈Rn), вы хотите оценить распределение Гаусса для каждого из признаков xi.\n",
        "\n",
        "\n",
        "The Gaussian distribution is given by\n",
        "\n",
        "$$ p\\left( x; \\mu, \\sigma^2 \\right) = \\frac{1}{\\sqrt{2\\pi\\sigma^2}} e^{-\\frac{\\left(x-\\mu\\right)^2}{2\\sigma^2}},$$\n",
        "where $\\mu$ is the mean and $\\sigma^2$ is the variance.\n",
        "\n",
        "To estimate the mean, you will use: \n",
        "$$ \\mu_i = \\frac{1}{m} \\sum_{j=1}^m x_i^{(j)},$$\n",
        "and for the variance you will use:\n",
        "$$ \\sigma_i^2 = \\frac{1}{m} \\sum_{j=1}^m \\left( x_i^{(j)} - \\mu_i \\right)^2.$$"
      ]
    },
    {
      "cell_type": "code",
      "metadata": {
        "id": "b56xP_QrZign",
        "colab_type": "code",
        "colab": {}
      },
      "source": [
        "def Gaussian(X, mu, sigma):\n",
        "    \"\"\"\n",
        "    Gaussian distribution.\n",
        "\n",
        "    Param:\n",
        "    ------\n",
        "    X : data\n",
        "    mu : array_like, mean\n",
        "    Sigma2 : var\n",
        "    Returns\n",
        "    ------\n",
        "    p : probabilities each examples.\n",
        "    \"\"\"\n",
        "    k = len(mu)\n",
        "    X = X - mu\n",
        "    \"\"\"\n",
        "    sigma.ndim == 1 return eerror\n",
        "    add np.diag: \n",
        "               array([[1.18952268, 0.        ],\n",
        "                      [0.        , 1.00437494]])\n",
        "\n",
        "    \"\"\"\n",
        "    if sigma.ndim == 1:\n",
        "        sigma2 = np.diag(sigma)\n",
        "\n",
        "    p = (2 * np.pi) ** (- k / 2) * np.linalg.det(sigma2) ** (-0.5)\\\n",
        "        * np.exp(-0.5 * np.sum(np.dot(X, np.linalg.pinv(sigma2)) * X, axis=1))\n",
        "    return p"
      ],
      "execution_count": 0,
      "outputs": []
    },
    {
      "cell_type": "code",
      "metadata": {
        "id": "hnT7JzEsZib-",
        "colab_type": "code",
        "colab": {}
      },
      "source": [
        "mu = X.mean(axis = 0)\n",
        "sigma = X.var(axis = 0)\n",
        "gauss = Gaussian(X, mu, sigma)#find distr for each example"
      ],
      "execution_count": 0,
      "outputs": []
    },
    {
      "cell_type": "code",
      "metadata": {
        "id": "43x3fBF1ZiMZ",
        "colab_type": "code",
        "colab": {}
      },
      "source": [
        "def vis_contour(X, mu, sigma):\n",
        "    \"\"\"\n",
        "    Visualize the dataset and its estimated distribution\n",
        "    Param:\n",
        "    ------\n",
        "    X : data\n",
        "    mu : mean\n",
        "    Sigma2 : var\n",
        "    \"\"\"\n",
        "    X1, X2 = np.meshgrid(np.linspace(-4, 4, 150), np.linspace(-4, 4, 150))\n",
        "    Z = Gaussian(np.stack([X1.ravel(), X2.ravel()], axis=1), mu, sigma)\n",
        "    Z = Z.reshape(X1.shape)\n",
        "    plt.plot(X[:, 0], X[:, 1], 'bx', mec='b', mew=2, ms=8)\n",
        "    plt.contour(X1, X2, Z, levels =10**(np.arange(-2., 2, 1)), linewidths=2, colors='k')\n",
        "    plt.title('Visualize distribution')\n",
        "    plt.xticks(())\n",
        "    plt.yticks(());"
      ],
      "execution_count": 0,
      "outputs": []
    },
    {
      "cell_type": "code",
      "metadata": {
        "id": "l4P9snMCloMU",
        "colab_type": "code",
        "outputId": "cc404e26-fcac-49c3-ceef-44911033d7fb",
        "colab": {
          "base_uri": "https://localhost:8080/",
          "height": 268
        }
      },
      "source": [
        "vis_contour(X, mu, sigma)"
      ],
      "execution_count": 0,
      "outputs": [
        {
          "output_type": "display_data",
          "data": {
            "image/png": "[encoded data removed]",
            "text/plain": [
              "<Figure size 432x288 with 1 Axes>"
            ]
          },
          "metadata": {
            "tags": []
          }
        }
      ]
    },
    {
      "cell_type": "markdown",
      "metadata": {
        "id": "ZJOoSsCY7ik8",
        "colab_type": "text"
      },
      "source": [
        "### Threshold\n",
        "We need to find a threshold that tells us the anomaly or not"
      ]
    },
    {
      "cell_type": "markdown",
      "metadata": {
        "id": "vLSIwQxx_dnD",
        "colab_type": "text"
      },
      "source": [
        "У нас есть примеры с высокой вероятностью и примеры с низкой вероятностью.\n",
        "Примерами низкой вероятности, скорее всего, являются аномалии.\n",
        "Один из способов определить, какие примеры являются аномалиями, - это выбрать порог на основе набора перекрестной проверки.\n",
        "\n",
        "Нам нужно найти порог ε. Если пример x имеет низкую вероятность p (x) < ε, то он считается аномалией.\n",
        "\n",
        "Нужно реализовать F1, которая говорит вам, насколько хорошо вы справляетесь с поиском аномалий при заданном пороговом значении.\n",
        "\n",
        "F1, сколько примеров правильно и неправильно классифицирует текущий порог."
      ]
    },
    {
      "cell_type": "markdown",
      "metadata": {
        "id": "PUeL3CljCu1J",
        "colab_type": "text"
      },
      "source": [
        "The $F_1$ score is computed using precision ($prec$) and recall ($rec$):\n",
        "\n",
        "$$ F_1 = \\frac{2 \\cdot prec \\cdot rec}{prec + rec}, $$\n",
        "\n",
        "You compute precision and recall by: \n",
        "\n",
        "$$ prec = \\frac{tp}{tp + fp}  $$ \n",
        "\n",
        "$$ rec = \\frac{tp}{tp + fn} $$\n",
        "\n",
        "where: \n",
        "\n",
        "- $tp$ is the number of true positives: the ground truth label says it’s an anomaly and our algorithm correctly classified it as an anomaly.\n",
        "\n",
        "-  $fp$ is the number of false positives: the ground truth label says it’s not an anomaly, but our algorithm incorrectly classified it as an anomaly.\n",
        "- $fn$ is the number of false negatives: the ground truth label says it’s an anomaly, but our algorithm incorrectly classified it as not being anomalous."
      ]
    },
    {
      "cell_type": "code",
      "metadata": {
        "id": "YlHUay0h5Qyq",
        "colab_type": "code",
        "colab": {}
      },
      "source": [
        "from sklearn.model_selection import train_test_split\n",
        "X_train, X_test, y_train, y_test = train_test_split(X, y, test_size=0.2, random_state=0)\n",
        "mu = X.mean(axis = 0)\n",
        "sigma = X.var(axis = 0)\n",
        "gauss = Gaussian(X, mu, sigma)#find distr for each example"
      ],
      "execution_count": 0,
      "outputs": []
    },
    {
      "cell_type": "code",
      "metadata": {
        "id": "56nPzX2c5Q8U",
        "colab_type": "code",
        "colab": {}
      },
      "source": [
        "def threshold(y_test, gauss_test):  \n",
        "  best_eps = 0\n",
        "  best_f1 = 0\n",
        "  F1 = 0\n",
        "  for epsilon in np.linspace(min(gauss_test),  max(gauss_test), 1000):\n",
        "    pred = epsilon > gauss_test\n",
        "    tp = np.sum((pred == 1) & (y_test == 1))\n",
        "    fp = np.sum((pred == 0) & (y_test == 1))\n",
        "    fn = np.sum((pred == 1) & (y_test == 0))\n",
        "    prec = tp / (tp + fp)\n",
        "    rec = tp / (tp + fn)    \n",
        "    F1 = (2 * prec * rec) / (prec + rec)    \n",
        "    if F1 > best_f1:\n",
        "      best_f1 = F1\n",
        "      best_eps = epsilon    \n",
        "  return best_f1, best_eps"
      ],
      "execution_count": 0,
      "outputs": []
    },
    {
      "cell_type": "code",
      "metadata": {
        "id": "RKYuLr_45Q5x",
        "colab_type": "code",
        "outputId": "5e2f0712-1024-4c41-ad32-3dcea39700c2",
        "colab": {
          "base_uri": "https://localhost:8080/",
          "height": 101
        }
      },
      "source": [
        "gauss_test = Gaussian(X_test, mu, sigma)\n",
        "best_f1, best_eps = threshold(y_test, gauss_test)\n",
        "best_eps, best_f1"
      ],
      "execution_count": 0,
      "outputs": [
        {
          "output_type": "stream",
          "text": [
            "/usr/local/lib/python3.6/dist-packages/ipykernel_launcher.py:11: RuntimeWarning: invalid value encountered in long_scalars\n",
            "  # This is added back by InteractiveShellApp.init_path()\n",
            "/usr/local/lib/python3.6/dist-packages/ipykernel_launcher.py:12: RuntimeWarning: invalid value encountered in double_scalars\n",
            "  if sys.path[0] == '':\n"
          ],
          "name": "stderr"
        },
        {
          "output_type": "execute_result",
          "data": {
            "text/plain": [
              "(0.10149426586178338, 0.5909090909090909)"
            ]
          },
          "metadata": {
            "tags": []
          },
          "execution_count": 359
        }
      ]
    },
    {
      "cell_type": "code",
      "metadata": {
        "id": "IUxDpVM0H4Q4",
        "colab_type": "code",
        "colab": {}
      },
      "source": [
        "\"\"\"\n",
        "как я думаю при  границе в 0.1 F1score = 0.59\n",
        "получается что внутри границы .6 точьность\n",
        "\"\"\"\n",
        "outliers = gauss < 0.10"
      ],
      "execution_count": 0,
      "outputs": []
    },
    {
      "cell_type": "code",
      "metadata": {
        "id": "-FfKEMyPJGx4",
        "colab_type": "code",
        "outputId": "ebc4aaba-1357-4323-df6f-9b387b55abe5",
        "colab": {
          "base_uri": "https://localhost:8080/",
          "height": 268
        }
      },
      "source": [
        "plt.plot(X[:, 0], X[:, 1], 'bx', mec='b', mew=2, ms=8)\n",
        "plt.plot(X[outliers, 0], X[outliers, 1], 'ro', ms=10, mfc='None', mew=2)\n",
        "plt.title('Visualize threshold, epsilon: '+ str(np.round(best_eps, decimals=3)))\n",
        "plt.xticks(())\n",
        "plt.yticks(());"
      ],
      "execution_count": 0,
      "outputs": [
        {
          "output_type": "display_data",
          "data": {
            "image/png": "[encoded data removed]",
            "text/plain": [
              "<Figure size 432x288 with 1 Axes>"
            ]
          },
          "metadata": {
            "tags": []
          }
        }
      ]
    },
    {
      "cell_type": "markdown",
      "metadata": {
        "id": "QCNgcZHiAFy0",
        "colab_type": "text"
      },
      "source": [
        "### Test sklearn"
      ]
    },
    {
      "cell_type": "code",
      "metadata": {
        "id": "lwUbFzsSMDgr",
        "colab_type": "code",
        "outputId": "956664d9-4ca0-441b-fbd8-bfa59e57bb2b",
        "colab": {
          "base_uri": "https://localhost:8080/",
          "height": 269
        }
      },
      "source": [
        "sns.distplot(X[:, 0]);"
      ],
      "execution_count": 0,
      "outputs": [
        {
          "output_type": "display_data",
          "data": {
            "image/png": "[encoded data removed]",
            "text/plain": [
              "<Figure size 432x288 with 1 Axes>"
            ]
          },
          "metadata": {
            "tags": []
          }
        }
      ]
    },
    {
      "cell_type": "markdown",
      "metadata": {
        "id": "vqPuYj7tYkjP",
        "colab_type": "text"
      },
      "source": [
        "#### EllipticEnvelope"
      ]
    },
    {
      "cell_type": "code",
      "metadata": {
        "id": "ijEcKyKalwI4",
        "colab_type": "code",
        "colab": {}
      },
      "source": [
        "cov = EllipticEnvelope(contamination=.1,random_state=0).fit(X)\n",
        "pred = cov.predict(X)"
      ],
      "execution_count": 0,
      "outputs": []
    },
    {
      "cell_type": "code",
      "metadata": {
        "id": "xvHa9mvPzzzJ",
        "colab_type": "code",
        "outputId": "ba0edfd6-bd2c-4415-a00a-5b9a1e3e6223",
        "colab": {
          "base_uri": "https://localhost:8080/",
          "height": 268
        }
      },
      "source": [
        "plt.scatter(X[:, 0], X[:, 1])\n",
        "plt.scatter(X[pred < 0][:, 0], X[pred < 0][:, 1], c = 'r')\n",
        "plt.title('Outlier Detection by EllipticEnvelope')\n",
        "plt.xticks(())\n",
        "plt.yticks(());"
      ],
      "execution_count": 0,
      "outputs": [
        {
          "output_type": "display_data",
          "data": {
            "image/png": "[encoded data removed]",
            "text/plain": [
              "<Figure size 432x288 with 1 Axes>"
            ]
          },
          "metadata": {
            "tags": []
          }
        }
      ]
    },
    {
      "cell_type": "markdown",
      "metadata": {
        "id": "CfvNNXBGYoHm",
        "colab_type": "text"
      },
      "source": [
        "#### OneClassSVM"
      ]
    },
    {
      "cell_type": "code",
      "metadata": {
        "id": "4A6t8Zw_zzwf",
        "colab_type": "code",
        "colab": {}
      },
      "source": [
        "one = OneClassSVM(random_state=0).fit(X)\n",
        "pred = one.predict(X)"
      ],
      "execution_count": 0,
      "outputs": []
    },
    {
      "cell_type": "code",
      "metadata": {
        "id": "SYvSs21TzzuD",
        "colab_type": "code",
        "outputId": "e6e5c676-47c3-419e-cd66-d6499e943050",
        "colab": {
          "base_uri": "https://localhost:8080/",
          "height": 268
        }
      },
      "source": [
        "plt.scatter(X[:, 0], X[:, 1])\n",
        "plt.scatter(X[pred < 0][:, 0], X[pred < 0][:, 1], c = 'k')\n",
        "plt.title('Outlier Detection by OneClassSVM')\n",
        "plt.xticks(())\n",
        "plt.yticks(());"
      ],
      "execution_count": 0,
      "outputs": [
        {
          "output_type": "display_data",
          "data": {
            "image/png": "[encoded data removed]",
            "text/plain": [
              "<Figure size 432x288 with 1 Axes>"
            ]
          },
          "metadata": {
            "tags": []
          }
        }
      ]
    }
  ]
}