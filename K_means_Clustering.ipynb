{
  "nbformat": 4,
  "nbformat_minor": 0,
  "metadata": {
    "colab": {
      "name": "K_means_Clustering.ipynb",
      "provenance": [],
      "collapsed_sections": [],
      "include_colab_link": true
    },
    "kernelspec": {
      "name": "python3",
      "display_name": "Python 3"
    }
  },
  "cells": [
    {
      "cell_type": "markdown",
      "metadata": {
        "id": "view-in-github",
        "colab_type": "text"
      },
      "source": [
        "<a href=\"https://colab.research.google.com/github/beifa/ML-models/blob/master/K_means_Clustering.ipynb\" target=\"_parent\"><img src=\"https://colab.research.google.com/assets/colab-badge.svg\" alt=\"Open In Colab\"/></a>"
      ]
    },
    {
      "cell_type": "code",
      "metadata": {
        "id": "Qsd88RQapShV",
        "colab_type": "code",
        "colab": {}
      },
      "source": [
        "%matplotlib inline\n",
        "from IPython.display import Image\n",
        "import matplotlib.pyplot as plt\n",
        "import seaborn as sns\n",
        "import numpy as np \n",
        "import pandas as pd\n",
        "from sklearn.datasets import make_blobs\n",
        "from sklearn.cluster import KMeans"
      ],
      "execution_count": 0,
      "outputs": []
    },
    {
      "cell_type": "markdown",
      "metadata": {
        "id": "HRfN0dpYxvFP",
        "colab_type": "text"
      },
      "source": [
        "Алгоритм K-средних - это метод для автоматической группировки похожих примеров данных. Конкретно, вам дают обучающий набор {x (1), ⋯, x (m)} (где x (i) ∈Rn), и вы хотите сгруппировать данные в несколько связных «кластеров». \n",
        "\n",
        "Интуиция, лежащая в основе K-средних, - это итеративная процедура, которая начинается с угадывания начальных центроидов, а затем уточняет это предположение, неоднократно присваивая примеры их ближайшим центроидам, а затем повторно вычисляя центроиды на основе назначений.\n",
        "\n",
        "Внутренний цикл алгоритма многократно выполняет два шага:\n",
        "\n",
        "(1) назначение каждого обучающего примера x (i) его ближайшему центроиду и \n",
        "(2) пересчет среднего значения каждого центроида с использованием назначенных ему точек. \n",
        "Алгоритм K-средних всегда будет сходиться к некоторому окончательному набору\n",
        "\n",
        "**Поэтому на практике алгоритм K-средних обычно запускается несколько раз с разными случайными инициализациями.**"
      ]
    },
    {
      "cell_type": "code",
      "metadata": {
        "id": "Ceealen5paEL",
        "colab_type": "code",
        "colab": {}
      },
      "source": [
        "X, y = make_blobs(n_samples=50, centers=3, n_features=2, random_state=13)"
      ],
      "execution_count": 0,
      "outputs": []
    },
    {
      "cell_type": "markdown",
      "metadata": {
        "id": "OJI_16hHiG8k",
        "colab_type": "text"
      },
      "source": [
        "###K-Means"
      ]
    },
    {
      "cell_type": "markdown",
      "metadata": {
        "id": "cREJDYzS9ZXJ",
        "colab_type": "text"
      },
      "source": [
        "#### Random initialization"
      ]
    },
    {
      "cell_type": "code",
      "metadata": {
        "id": "FHibC77o0sRu",
        "colab_type": "code",
        "colab": {}
      },
      "source": [
        "def findcentroids(X, K):\n",
        "    \"\"\"\n",
        "    initializes K centroids \n",
        "    X: data\n",
        "    K: int, count centroids\n",
        "\n",
        "    return: array, centroid   \n",
        "    \"\"\"\n",
        "    m, n = X.shape \n",
        "    centroids = np.zeros((K, n))   \n",
        "    # Randomly \n",
        "    randidx = np.random.permutation(X.shape[0])    \n",
        "    centroids = X[randidx[:K], :]        \n",
        "    return centroids\n",
        "\n",
        "centroid = findcentroids(X, 3)"
      ],
      "execution_count": 0,
      "outputs": []
    },
    {
      "cell_type": "code",
      "metadata": {
        "id": "pDRXvwTp-Wgv",
        "colab_type": "code",
        "outputId": "e8ea6b61-68e5-45cd-d869-96e5f1f5c4ff",
        "colab": {
          "base_uri": "https://localhost:8080/",
          "height": 268
        }
      },
      "source": [
        "plt.scatter(X[:, 0], X[:, 1], c = y)\n",
        "plt.scatter(centroid[:, 0], centroid[:, 1], c = 'r', label = 'Randomize Centroid')\n",
        "plt.title('Visual position centroids')\n",
        "plt.xticks(())\n",
        "plt.yticks(())\n",
        "plt.legend();"
      ],
      "execution_count": 0,
      "outputs": [
        {
          "output_type": "display_data",
          "data": {
            "image/png": "[encoded data removed]",
            "text/plain": [
              "<Figure size 432x288 with 1 Axes>"
            ]
          },
          "metadata": {
            "tags": []
          }
        }
      ]
    },
    {
      "cell_type": "markdown",
      "metadata": {
        "id": "qXOrs-TBiMzu",
        "colab_type": "text"
      },
      "source": [
        "#### Find idx(data) by gen centroid "
      ]
    },
    {
      "cell_type": "code",
      "metadata": {
        "id": "Glb9lsPlDZE4",
        "colab_type": "code",
        "colab": {}
      },
      "source": [
        "def findidx_centroid(X, centroid):\n",
        "  \"\"\"\n",
        "  Find index values in data by centroid\n",
        "\n",
        "  Param:\n",
        "  ------\n",
        "  X: array, data\n",
        "  centroid: array, data random centroid\n",
        "\n",
        "  Note:\n",
        "\n",
        "  dist = X-centroid, sum, **2\n",
        "  после нахождения дистанции нам нужно понять\n",
        "  к какому центройду это значение отнести(как я понимаю),\n",
        "  ага мы из каждого x вычитаем центройды, ложим их в баночку в которой значения\n",
        "  и взяв аргмин получем индекс наминьшего.\n",
        "  \"\"\"\n",
        "  centroid_temp = np.zeros((centroid.shape[0]))\n",
        "  idx = np.zeros((X.shape[0]))\n",
        "  for i in range(X.shape[0]):\n",
        "    for c in range(len(centroid)):\n",
        "      temp = np.sum((X[i, :] - centroid[c])**2)\n",
        "      centroid_temp[c] = temp\n",
        "\n",
        "    #print(centroid_temp)\n",
        "    #we find dist and i need small \n",
        "    \"\"\"\n",
        "    [20.68896308 87.42547432  1.30672695]\n",
        "    [  9.08243129 235.73546631  42.02063509]\n",
        "    [  5.55775    167.29055971  24.26477923]    \n",
        "    \"\"\"\n",
        "    idx[i] = np.argmin(centroid_temp)\n",
        "  return idx\n",
        "\n",
        "idx = findidx_centroid(X, centroid)"
      ],
      "execution_count": 0,
      "outputs": []
    },
    {
      "cell_type": "code",
      "metadata": {
        "id": "rIyjhQoxGcrk",
        "colab_type": "code",
        "colab": {}
      },
      "source": [
        "k1 = X[idx == 1]\n",
        "k2 = X[idx == 2]\n",
        "k0 = X[idx == 0]"
      ],
      "execution_count": 0,
      "outputs": []
    },
    {
      "cell_type": "code",
      "metadata": {
        "id": "3dOG2jUDIZfa",
        "colab_type": "code",
        "outputId": "91219e27-98c4-4ed1-f634-5c24a8aa28a2",
        "colab": {
          "base_uri": "https://localhost:8080/",
          "height": 268
        }
      },
      "source": [
        "plt.scatter(X[:, 0], X[:, 1], c = y)\n",
        "plt.scatter(k1[:, 0], k1[:, 1], c = 'w', edgecolors='g', s=200)\n",
        "plt.scatter(k2[:, 0], k2[:, 1], c = 'w', edgecolors='k', s=100)\n",
        "plt.scatter(k0[:, 0], k0[:, 1], c = 'w', edgecolors='r', s=50)\n",
        "plt.title('Visual clusters')\n",
        "plt.xticks(())\n",
        "plt.yticks(());"
      ],
      "execution_count": 0,
      "outputs": [
        {
          "output_type": "display_data",
          "data": {
            "image/png": "[encoded data removed]",
            "text/plain": [
              "<Figure size 432x288 with 1 Axes>"
            ]
          },
          "metadata": {
            "tags": []
          }
        }
      ]
    },
    {
      "cell_type": "markdown",
      "metadata": {
        "id": "e0klAHmJiX3R",
        "colab_type": "text"
      },
      "source": [
        "#### Find best position centroid"
      ]
    },
    {
      "cell_type": "code",
      "metadata": {
        "id": "voWuCoCKYS_K",
        "colab_type": "code",
        "colab": {}
      },
      "source": [
        "def meancentroid(X, idx, K):\n",
        "    \"\"\"\n",
        "    Returns the new centroids by means change points assigned to each centroid.    \n",
        "    Param:\n",
        "    ------\n",
        "    X : data    \n",
        "    idx : array, index data for each centroid    \n",
        "    K : num clusters    \n",
        "    Returns: new position centroid  \n",
        "    \"\"\"    \n",
        "    m, n = X.shape    \n",
        "    centroids = np.zeros((K, n))   \n",
        "    for k in range(K):\n",
        "      new_c = X[np.where(idx == k)].mean(axis = 0)\n",
        "      centroids[k] = new_c        \n",
        "    return centroids"
      ],
      "execution_count": 0,
      "outputs": []
    },
    {
      "cell_type": "code",
      "metadata": {
        "id": "sQLsNS3-YhMO",
        "colab_type": "code",
        "colab": {}
      },
      "source": [
        "new_centroid = meancentroid(X, idx, 3)"
      ],
      "execution_count": 0,
      "outputs": []
    },
    {
      "cell_type": "code",
      "metadata": {
        "id": "31gedKPyZZrq",
        "colab_type": "code",
        "outputId": "67c2e456-a244-42d9-ea6d-2d7a8242fa41",
        "colab": {
          "base_uri": "https://localhost:8080/",
          "height": 268
        }
      },
      "source": [
        "plt.scatter(X[:, 0], X[:, 1], c = y)\n",
        "plt.scatter(new_centroid[:, 0], new_centroid[:, 1], c = 'r', label = 'Randomize Centroid')\n",
        "plt.title('Visual position centroids')\n",
        "plt.xticks(())\n",
        "plt.yticks(())\n",
        "plt.legend();"
      ],
      "execution_count": 0,
      "outputs": [
        {
          "output_type": "display_data",
          "data": {
            "image/png": "[encoded data removed]",
            "text/plain": [
              "<Figure size 432x288 with 1 Axes>"
            ]
          },
          "metadata": {
            "tags": []
          }
        }
      ]
    },
    {
      "cell_type": "markdown",
      "metadata": {
        "id": "mRe9fEQhigyn",
        "colab_type": "text"
      },
      "source": [
        "#### Reindex(data) by new position centroid"
      ]
    },
    {
      "cell_type": "code",
      "metadata": {
        "id": "6qgkEZ6VdrLL",
        "colab_type": "code",
        "colab": {}
      },
      "source": [
        "idx = findidx_centroid(X, new_centroid)"
      ],
      "execution_count": 0,
      "outputs": []
    },
    {
      "cell_type": "code",
      "metadata": {
        "colab_type": "code",
        "id": "SP8A5146d0-h",
        "colab": {}
      },
      "source": [
        "k1 = X[idx == 1]\n",
        "k2 = X[idx == 2]\n",
        "k0 = X[idx == 0]"
      ],
      "execution_count": 0,
      "outputs": []
    },
    {
      "cell_type": "code",
      "metadata": {
        "colab_type": "code",
        "outputId": "e0b6ba71-d73a-4c5e-df00-7ab6dd2139ea",
        "id": "GwW-kV6od0-p",
        "colab": {
          "base_uri": "https://localhost:8080/",
          "height": 268
        }
      },
      "source": [
        "plt.scatter(X[:, 0], X[:, 1], c = y)\n",
        "plt.scatter(k1[:, 0], k1[:, 1], c = 'w', edgecolors='g', s=200)\n",
        "plt.scatter(k2[:, 0], k2[:, 1], c = 'w', edgecolors='k', s=100)\n",
        "plt.scatter(k0[:, 0], k0[:, 1], c = 'w', edgecolors='r', s=50)\n",
        "plt.title('Visual clusters')\n",
        "plt.xticks(())\n",
        "plt.yticks(());"
      ],
      "execution_count": 0,
      "outputs": [
        {
          "output_type": "display_data",
          "data": {
            "image/png": "[encoded data removed]",
            "text/plain": [
              "<Figure size 432x288 with 1 Axes>"
            ]
          },
          "metadata": {
            "tags": []
          }
        }
      ]
    },
    {
      "cell_type": "markdown",
      "metadata": {
        "id": "dNhto8Vz89s4",
        "colab_type": "text"
      },
      "source": [
        "#### Test"
      ]
    },
    {
      "cell_type": "code",
      "metadata": {
        "id": "nBO9EEEVunnn",
        "colab_type": "code",
        "colab": {}
      },
      "source": [
        "def history_edu(X, centroid, func1, func2, max_iter = 5):\n",
        "  \"\"\"\n",
        "  we want to see how our algorithm studied (moving centroids)\n",
        "  Param:\n",
        "  ------\n",
        "  X: data\n",
        "  centroid: random init centroids\n",
        "  func1: find index data by centroid\n",
        "  func2: change position by mean func1\n",
        "  max_iter:  steps\n",
        "  \"\"\"\n",
        "  h_idx = []\n",
        "  h_centroids = []\n",
        "  K = centroid.shape[0]\n",
        "\n",
        "  for i in range(max_iter):\n",
        "    #print(centroid)\n",
        "    #find idx\n",
        "    idx = func1(X, centroid)\n",
        "    #save to history\n",
        "    h_idx.append(idx)\n",
        "    h_centroids.append(centroid)\n",
        "    #mean    \n",
        "    centroid = func2(X, idx, K)\n",
        "  return centroid, np.asarray(h_centroids)"
      ],
      "execution_count": 0,
      "outputs": []
    },
    {
      "cell_type": "code",
      "metadata": {
        "id": "YFeSuBDdunkC",
        "colab_type": "code",
        "colab": {}
      },
      "source": [
        "#gen random position centroids\n",
        "centroid = findcentroids(X, 3)\n",
        "#return best centroid and history\n",
        "centroids, h_centroids = history_edu(X, centroid, findidx_centroid, meancentroid, max_iter = 5)"
      ],
      "execution_count": 0,
      "outputs": []
    },
    {
      "cell_type": "code",
      "metadata": {
        "id": "tgNOjL_odQqy",
        "colab_type": "code",
        "colab": {}
      },
      "source": [
        "def plot_cluster(X, centroids, h_centroids):\n",
        "  \"\"\"plot cluster centroid with steps\n",
        "  \"\"\"\n",
        "  idx = findidx_centroid(X, centroids)\n",
        "  k1 = X[idx == 1]\n",
        "  k2 = X[idx == 2]\n",
        "  k0 = X[idx == 0]\n",
        "\n",
        "  plt.scatter(X[:, 0], X[:, 1], c = y)\n",
        "  plt.scatter(k1[:, 0], k1[:, 1], c = 'w', edgecolors='g', s=200)\n",
        "  plt.scatter(k2[:, 0], k2[:, 1], c = 'w', edgecolors='k', s=100)\n",
        "  plt.scatter(k0[:, 0], k0[:, 1], c = 'w', edgecolors='r', s=50)\n",
        "  #steps\n",
        "  K = h_centroids[0].shape[0]\n",
        "  for i in range(K):\n",
        "    for k, color in enumerate(['red', 'green', 'k']):\n",
        "      current = np.stack([c[k, :] for c in h_centroids[:i+1]], axis=0)\n",
        "      #print(current)\n",
        "      plt.plot(current[:, 0], current[:, 1],'-X',color = color, mec='k',lw=1, ms=10, mew=1)\n",
        "  plt.title('Visual Steps how find best place clusters')\n",
        "  plt.xticks(())\n",
        "  plt.yticks(())\n",
        "  plt.show()"
      ],
      "execution_count": 0,
      "outputs": []
    },
    {
      "cell_type": "code",
      "metadata": {
        "id": "lxNOqMIEd8y6",
        "colab_type": "code",
        "outputId": "aacdffa8-aef3-4f68-b9be-b5ccb5bbddf9",
        "colab": {
          "base_uri": "https://localhost:8080/",
          "height": 268
        }
      },
      "source": [
        "plot_cluster(X, centroids, h_centroids)"
      ],
      "execution_count": 0,
      "outputs": [
        {
          "output_type": "display_data",
          "data": {
            "image/png": "[encoded data removed]",
            "text/plain": [
              "<Figure size 432x288 with 1 Axes>"
            ]
          },
          "metadata": {
            "tags": []
          }
        }
      ]
    },
    {
      "cell_type": "markdown",
      "metadata": {
        "id": "CnKzfIjt9xc_",
        "colab_type": "text"
      },
      "source": [
        "#### Test sklearn"
      ]
    },
    {
      "cell_type": "code",
      "metadata": {
        "id": "l_K77WNU9NPy",
        "colab_type": "code",
        "outputId": "5179d602-3872-4dd5-b8a9-bf0fef1a9f1f",
        "colab": {
          "base_uri": "https://localhost:8080/",
          "height": 268
        }
      },
      "source": [
        "clusters = KMeans(n_clusters=3, random_state=13).fit_predict(X)\n",
        "plt.scatter(X[:, 0], X[:, 1], c=clusters)\n",
        "plt.title(\"Correct Number clusters\")\n",
        "plt.xticks(())\n",
        "plt.yticks(())\n",
        "plt.show()"
      ],
      "execution_count": 0,
      "outputs": [
        {
          "output_type": "display_data",
          "data": {
            "image/png": "[encoded data removed]",
            "text/plain": [
              "<Figure size 432x288 with 1 Axes>"
            ]
          },
          "metadata": {
            "tags": []
          }
        }
      ]
    }
  ]
}