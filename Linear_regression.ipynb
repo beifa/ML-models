{
  "nbformat": 4,
  "nbformat_minor": 0,
  "metadata": {
    "colab": {
      "name": "Linear_regression.ipynb",
      "version": "0.3.2",
      "provenance": [],
      "collapsed_sections": [],
      "include_colab_link": true
    },
    "kernelspec": {
      "name": "python3",
      "display_name": "Python 3"
    },
    "accelerator": "TPU"
  },
  "cells": [
    {
      "cell_type": "markdown",
      "metadata": {
        "id": "view-in-github",
        "colab_type": "text"
      },
      "source": [
        "<a href=\"https://colab.research.google.com/github/beifa/ML-models/blob/master/Linear_regression.ipynb\" target=\"_parent\"><img src=\"https://colab.research.google.com/assets/colab-badge.svg\" alt=\"Open In Colab\"/></a>"
      ]
    },
    {
      "cell_type": "code",
      "metadata": {
        "id": "s_NtIBYyN1bE",
        "colab_type": "code",
        "colab": {}
      },
      "source": [
        "%matplotlib inline\n",
        "import matplotlib.pyplot as plt\n",
        "import seaborn as sns\n",
        "import numpy as np \n",
        "import pandas as pd \n",
        "from sklearn.datasets import load_diabetes\n",
        "from sklearn.linear_model import LinearRegression"
      ],
      "execution_count": 0,
      "outputs": []
    },
    {
      "cell_type": "code",
      "metadata": {
        "id": "jgjp_rUxN7Z0",
        "colab_type": "code",
        "outputId": "13f8b963-de87-4785-f59c-1cdd854c6209",
        "colab": {
          "base_uri": "https://localhost:8080/",
          "height": 689
        }
      },
      "source": [
        "data = load_diabetes()\n",
        "y = data.target\n",
        "X = data.data\n",
        "print(data.DESCR) \n",
        "print('-------------------Names Features in data-----------------')\n",
        "print(data.feature_names)"
      ],
      "execution_count": 0,
      "outputs": [
        {
          "output_type": "stream",
          "text": [
            ".. _diabetes_dataset:\n",
            "\n",
            "Diabetes dataset\n",
            "----------------\n",
            "\n",
            "Ten baseline variables, age, sex, body mass index, average blood\n",
            "pressure, and six blood serum measurements were obtained for each of n =\n",
            "442 diabetes patients, as well as the response of interest, a\n",
            "quantitative measure of disease progression one year after baseline.\n",
            "\n",
            "**Data Set Characteristics:**\n",
            "\n",
            "  :Number of Instances: 442\n",
            "\n",
            "  :Number of Attributes: First 10 columns are numeric predictive values\n",
            "\n",
            "  :Target: Column 11 is a quantitative measure of disease progression one year after baseline\n",
            "\n",
            "  :Attribute Information:\n",
            "      - Age\n",
            "      - Sex\n",
            "      - Body mass index\n",
            "      - Average blood pressure\n",
            "      - S1\n",
            "      - S2\n",
            "      - S3\n",
            "      - S4\n",
            "      - S5\n",
            "      - S6\n",
            "\n",
            "Note: Each of these 10 feature variables have been mean centered and scaled by the standard deviation times `n_samples` (i.e. the sum of squares of each column totals 1).\n",
            "\n",
            "Source URL:\n",
            "https://www4.stat.ncsu.edu/~boos/var.select/diabetes.html\n",
            "\n",
            "For more information see:\n",
            "Bradley Efron, Trevor Hastie, Iain Johnstone and Robert Tibshirani (2004) \"Least Angle Regression,\" Annals of Statistics (with discussion), 407-499.\n",
            "(https://web.stanford.edu/~hastie/Papers/LARS/LeastAngle_2002.pdf)\n",
            "-------------------Names Features in data-----------------\n",
            "['age', 'sex', 'bmi', 'bp', 's1', 's2', 's3', 's4', 's5', 's6']\n"
          ],
          "name": "stdout"
        }
      ]
    },
    {
      "cell_type": "markdown",
      "metadata": {
        "id": "RB6oi7d7SlUt",
        "colab_type": "text"
      },
      "source": [
        "### Model"
      ]
    },
    {
      "cell_type": "markdown",
      "metadata": {
        "id": "u0f0r3Puh0lj",
        "colab_type": "text"
      },
      "source": [
        "Cost function:\n",
        "$$ J(\\theta) = \\frac{1}{2m} \\sum_{i=1}^m \\left( h_{\\theta}(x^{(i)}) - y^{(i)}\\right)^2$$"
      ]
    },
    {
      "cell_type": "markdown",
      "metadata": {
        "id": "qlZXZfSyhspD",
        "colab_type": "text"
      },
      "source": [
        "$$ \\theta_j = \\theta_j - \\alpha \\frac{1}{m} \\sum_{i=1}^m \\left( h_\\theta(x^{(i)}) - y^{(i)}\\right)x_j^{(i)} \\qquad \\text{simultaneously update } \\theta_j \\text{ for all } j$$\n",
        "\n",
        "for my:\n",
        "\n",
        "0. $$ h_\\theta(x) = \\theta^Tx = \\theta_0 + \\theta_1 x_1$$\n",
        "\n",
        "1. $$h_\\theta(x^{(i)}) - y^{(i)}$$\n",
        "\n",
        "2. $$ (h_\\theta(x^{(i)}) - y^{(i)}) * x_j^{(i)}$$\n",
        "\n",
        "3. $$\\sum_{i=1}^m \\left( h_\\theta(x^{(i)}) - y^{(i)}\\right)x_j^{(i)}$$\n",
        "\n",
        "4. $$\\theta_j - \\alpha \\frac{1}{m} $$\n",
        "\n"
      ]
    },
    {
      "cell_type": "code",
      "metadata": {
        "id": "p23lA257UI3e",
        "colab_type": "code",
        "colab": {}
      },
      "source": [
        "#we try make for only two features\n",
        "def costfunc(X, y, theta):\n",
        "  \"\"\"\n",
        "  Find cost func\n",
        "\n",
        "  Param:\n",
        "  -----\n",
        "  X, y: data for model\n",
        "  theta: values for lin regression param\n",
        "\n",
        "  return: theta  \n",
        "  \"\"\"\n",
        "  m = X.shape[0] # size all values\n",
        "  # 0.\n",
        "  h = np.dot(X, theta) #hypothesis(predict)\n",
        "  # 1.\n",
        "  J = 1/(2*m)*np.sum((h - y)**2)\n",
        "  return J\n",
        "\n",
        "def gradient(X, y, theta, alpha, num_iters):\n",
        "  \"\"\"\n",
        "  find gradient (minimaize theta)\n",
        "  \n",
        "  Param:\n",
        "  ------\n",
        "  X, y:  data for model\n",
        "  theta: values lr\n",
        "  alpha: Learning rate - (скорорсть обучения или как быстро сходиться)\n",
        "  num_iter: counts steps\n",
        "\n",
        "  return: theta \n",
        "  \"\"\"\n",
        "  m = X.shape[0]     \n",
        "  # make a copy of theta, which will be updated by gradient descent\n",
        "  theta = theta.copy()\n",
        "  J_history = []    \n",
        "  for i in range(num_iters):\n",
        "    #0. 1.\n",
        "    h = np.dot(X, theta) - y\n",
        "    #4.3.2\n",
        "    theta = theta - 1/ m *alpha* X.T.dot(h)     \n",
        "    J_history.append(costfunc(X, y, theta))   \n",
        "  return theta, J_history"
      ],
      "execution_count": 0,
      "outputs": []
    },
    {
      "cell_type": "code",
      "metadata": {
        "id": "rmdoZ6NGTaQw",
        "colab_type": "code",
        "colab": {}
      },
      "source": [
        "X_new = X[:, np.newaxis, 2][:50]\n",
        "y_new = y[:50]\n",
        "\n",
        "theta = np.zeros((X_new.shape[1]))\n",
        "#computeCost(X, y, theta)\n",
        "alpha = .1\n",
        "num_iters = 10000\n",
        "theta, grad = gradient(X_new, y_new, theta, alpha, num_iters)"
      ],
      "execution_count": 0,
      "outputs": []
    },
    {
      "cell_type": "markdown",
      "metadata": {
        "id": "a6KTEfbTScUL",
        "colab_type": "text"
      },
      "source": [
        "### Test func"
      ]
    },
    {
      "cell_type": "code",
      "metadata": {
        "id": "4DAkTj3Lbc6V",
        "colab_type": "code",
        "outputId": "ae082a17-9981-43d4-b709-a27289878ee0",
        "colab": {
          "base_uri": "https://localhost:8080/",
          "height": 84
        }
      },
      "source": [
        "\"\"\"\n",
        "find best(minimaize) theta with gradient and plot line\n",
        "\n",
        "Take only one features and make split for test and train\n",
        "\"\"\"\n",
        "X_train, X_test = X[:, np.newaxis, 2][:-100], X[:, np.newaxis, 2][-100:]\n",
        "y_train, y_test = y[:-100], y[-100:]\n",
        "theta = np.zeros((X_train.shape[1]))\n",
        "print(X_train.shape, X_test.shape)\n",
        "print('_________________________')\n",
        "print(y_train.shape, y_test.shape)\n",
        "print(theta.shape)"
      ],
      "execution_count": 0,
      "outputs": [
        {
          "output_type": "stream",
          "text": [
            "(342, 1) (100, 1)\n",
            "_________________________\n",
            "(342,) (100,)\n",
            "(1,)\n"
          ],
          "name": "stdout"
        }
      ]
    },
    {
      "cell_type": "code",
      "metadata": {
        "id": "IRVYIu1G5nMK",
        "colab_type": "code",
        "colab": {}
      },
      "source": [
        "#find theta\n",
        "alpha = 1\n",
        "num_iters = 10000\n",
        "theta, _ = gradient(X_train, y_train, theta, alpha, num_iters)\n",
        "#find predict\n",
        "pred = np.mean(y_test) + np.dot(X_test, theta)"
      ],
      "execution_count": 0,
      "outputs": []
    },
    {
      "cell_type": "code",
      "metadata": {
        "id": "E16MQgchBDon",
        "colab_type": "code",
        "outputId": "6d27fe4f-4e0c-4426-c7bd-953217de01be",
        "colab": {
          "base_uri": "https://localhost:8080/",
          "height": 285
        }
      },
      "source": [
        "plt.scatter(X_test, y_test, color = 'g')\n",
        "plt.plot(X_test, pred, 'k-', linewidth =.3)\n",
        "plt.ylabel('Target (y)')\n",
        "plt.xticks(())\n",
        "plt.title('Linear Regression Example');\n",
        "print(theta)"
      ],
      "execution_count": 0,
      "outputs": [
        {
          "output_type": "stream",
          "text": [
            "[933.75054857]\n"
          ],
          "name": "stdout"
        },
        {
          "output_type": "display_data",
          "data": {
            "image/png": "[encoded data removed]",
            "text/plain": [
              "<Figure size 432x288 with 1 Axes>"
            ]
          },
          "metadata": {
            "tags": []
          }
        }
      ]
    },
    {
      "cell_type": "markdown",
      "metadata": {
        "id": "lzsSpF-IfJeZ",
        "colab_type": "text"
      },
      "source": [
        "#### Check correct\n"
      ]
    },
    {
      "cell_type": "code",
      "metadata": {
        "id": "__VLIM5y5nPO",
        "colab_type": "code",
        "outputId": "cd2ab8e6-2b27-4606-cf39-e4e6e4d1d7f1",
        "colab": {
          "base_uri": "https://localhost:8080/",
          "height": 285
        }
      },
      "source": [
        "lr = LinearRegression()\n",
        "lr.fit(X_train, y_train)\n",
        "lr_predict = lr.predict(X_test)\n",
        "#plot\n",
        "plt.scatter(X_test, y_test, color = 'gray')\n",
        "plt.plot(X_test, lr_predict, 'b-', linewidth =.3)\n",
        "plt.ylabel('Target (y)')\n",
        "plt.xticks(())\n",
        "plt.title('Test correct Linear Regression');\n",
        "print(lr.coef_)"
      ],
      "execution_count": 0,
      "outputs": [
        {
          "output_type": "stream",
          "text": [
            "[953.3606272]\n"
          ],
          "name": "stdout"
        },
        {
          "output_type": "display_data",
          "data": {
            "image/png": "[encoded data removed]",
            "text/plain": [
              "<Figure size 432x288 with 1 Axes>"
            ]
          },
          "metadata": {
            "tags": []
          }
        }
      ]
    },
    {
      "cell_type": "markdown",
      "metadata": {
        "id": "QoGAVMMVvhvQ",
        "colab_type": "text"
      },
      "source": [
        "### Score\n",
        "\n",
        "Коэффициент детерминации **R-квадрат** — это доля дисперсии зависимой переменной, объясняемая рассматриваемой моделью зависимости, то есть объясняющими переменными."
      ]
    },
    {
      "cell_type": "code",
      "metadata": {
        "id": "XShj9kVavlLp",
        "colab_type": "code",
        "colab": {}
      },
      "source": [
        "def scoreR2(y_true, y_pred):\n",
        "  #coefficient R^2\n",
        "  u = ((y_true - y_pred) ** 2).sum()\n",
        "  v = ((y_true - y_true.mean()) ** 2).sum()\n",
        "  r2 = 1 - (u / v)\n",
        "  return r2"
      ],
      "execution_count": 0,
      "outputs": []
    },
    {
      "cell_type": "code",
      "metadata": {
        "id": "KEAiZWQUvlQJ",
        "colab_type": "code",
        "outputId": "722161c9-747d-41b1-836f-9272616e0283",
        "colab": {
          "base_uri": "https://localhost:8080/",
          "height": 34
        }
      },
      "source": [
        "scoreR2(y_test, pred)"
      ],
      "execution_count": 0,
      "outputs": [
        {
          "output_type": "execute_result",
          "data": {
            "text/plain": [
              "0.38042901420929953"
            ]
          },
          "metadata": {
            "tags": []
          },
          "execution_count": 503
        }
      ]
    },
    {
      "cell_type": "code",
      "metadata": {
        "id": "2lYC4XuKvlOr",
        "colab_type": "code",
        "outputId": "4465e610-4d5c-4348-d95a-035526084fc2",
        "colab": {
          "base_uri": "https://localhost:8080/",
          "height": 34
        }
      },
      "source": [
        "from sklearn.metrics import r2_score\n",
        "r2_score(y_test, lr_predict)"
      ],
      "execution_count": 0,
      "outputs": [
        {
          "output_type": "execute_result",
          "data": {
            "text/plain": [
              "0.3804087960385918"
            ]
          },
          "metadata": {
            "tags": []
          },
          "execution_count": 502
        }
      ]
    },
    {
      "cell_type": "markdown",
      "metadata": {
        "id": "4q-Z8R6oj82q",
        "colab_type": "text"
      },
      "source": [
        "### Curve Learning Rates"
      ]
    },
    {
      "cell_type": "code",
      "metadata": {
        "id": "2m5VzL6QkKAm",
        "colab_type": "code",
        "outputId": "3206916c-2d12-42cd-a2bc-c6e824ad4c2b",
        "colab": {
          "base_uri": "https://localhost:8080/",
          "height": 401
        }
      },
      "source": [
        "alphas = [20, 10, 5, 3, 1, 0.5, 0.1]\n",
        "num_iters = 400\n",
        "\n",
        "for a in alphas:\n",
        "  theta = np.zeros((X_train.shape[1]))\n",
        "  theta, J_history = gradient(X_train, y_train, theta, a, num_iters)\n",
        "  print('Theta: ', theta[0])\n",
        "\n",
        "  # Plot the convergence graph\n",
        "  plt.plot(np.arange(len(J_history)), J_history, lw=2)\n",
        "  plt.xlabel('Number of iterations')\n",
        "  plt.ylabel('Cost J')\n",
        "  plt.xlim(0, 200)"
      ],
      "execution_count": 0,
      "outputs": [
        {
          "output_type": "stream",
          "text": [
            "Theta:  933.7505288328689\n",
            "Theta:  933.5994620522014\n",
            "Theta:  921.5867309105574\n",
            "Theta:  864.3135468032909\n",
            "Theta:  540.3529293090044\n",
            "Theta:  327.5271401302071\n",
            "Theta:  77.25040541855893\n"
          ],
          "name": "stdout"
        },
        {
          "output_type": "display_data",
          "data": {
            "image/png": "[encoded data removed]",
            "text/plain": [
              "<Figure size 432x288 with 1 Axes>"
            ]
          },
          "metadata": {
            "tags": []
          }
        }
      ]
    },
    {
      "cell_type": "markdown",
      "metadata": {
        "id": "fyfi9rttj68o",
        "colab_type": "text"
      },
      "source": [
        "### Normal Equations\n",
        "\n",
        "Использование этой формулы не требует какого-либо масштабирования объектов, и вы получите точное решение за один расчет: не существует «цикла до сходимости», как при градиентном спуске.\n",
        "\n",
        "\n",
        "$$ \\theta = \\left( X^T X\\right)^{-1} X^T\\vec{y}$$"
      ]
    },
    {
      "cell_type": "code",
      "metadata": {
        "id": "PCZZHpAq5nV5",
        "colab_type": "code",
        "colab": {}
      },
      "source": [
        "def normalEqn(X, y):\n",
        "    \"\"\"\n",
        "    linear regression using the normal equations.\n",
        "    \n",
        "    Param:\n",
        "    ------\n",
        "    X, y :dataset    \n",
        "    Returns: theta         \n",
        "    \"\"\"\n",
        "    theta = np.zeros(X.shape[1])    \n",
        "    inv = np.linalg.pinv(np.dot(X.T, X)) #inverse matrix\n",
        "    theta = np.dot(inv, np.dot(X.T, y))    \n",
        "    return theta"
      ],
      "execution_count": 0,
      "outputs": []
    },
    {
      "cell_type": "code",
      "metadata": {
        "id": "G0mPzqYI5ncl",
        "colab_type": "code",
        "outputId": "19703942-d117-4744-9566-64bd4443c469",
        "colab": {
          "base_uri": "https://localhost:8080/",
          "height": 34
        }
      },
      "source": [
        "normalEqn(X_train, y_train)"
      ],
      "execution_count": 0,
      "outputs": [
        {
          "output_type": "execute_result",
          "data": {
            "text/plain": [
              "array([933.75054895])"
            ]
          },
          "metadata": {
            "tags": []
          },
          "execution_count": 482
        }
      ]
    },
    {
      "cell_type": "markdown",
      "metadata": {
        "id": "yAUtGvQAuXwB",
        "colab_type": "text"
      },
      "source": [
        "Check for all data"
      ]
    },
    {
      "cell_type": "code",
      "metadata": {
        "id": "968IKWcE5nfa",
        "colab_type": "code",
        "outputId": "b7c98067-f90f-4bf0-b660-85790a991fce",
        "colab": {
          "base_uri": "https://localhost:8080/",
          "height": 67
        }
      },
      "source": [
        "normalEqn(X, y)"
      ],
      "execution_count": 0,
      "outputs": [
        {
          "output_type": "execute_result",
          "data": {
            "text/plain": [
              "array([ -10.01219782, -239.81908937,  519.83978679,  324.39042769,\n",
              "       -792.18416163,  476.74583782,  101.04457032,  177.06417623,\n",
              "        751.27932109,   67.62538639])"
            ]
          },
          "metadata": {
            "tags": []
          },
          "execution_count": 483
        }
      ]
    },
    {
      "cell_type": "code",
      "metadata": {
        "id": "3jGlSrEe5niL",
        "colab_type": "code",
        "outputId": "da71d240-fb8c-4350-b234-281d9281a32b",
        "colab": {
          "base_uri": "https://localhost:8080/",
          "height": 67
        }
      },
      "source": [
        "lr = LinearRegression()\n",
        "lr.fit(X, y)\n",
        "lr.coef_"
      ],
      "execution_count": 0,
      "outputs": [
        {
          "output_type": "execute_result",
          "data": {
            "text/plain": [
              "array([ -10.01219782, -239.81908937,  519.83978679,  324.39042769,\n",
              "       -792.18416163,  476.74583782,  101.04457032,  177.06417623,\n",
              "        751.27932109,   67.62538639])"
            ]
          },
          "metadata": {
            "tags": []
          },
          "execution_count": 484
        }
      ]
    },
    {
      "cell_type": "markdown",
      "metadata": {
        "id": "TnetxRMp_f-e",
        "colab_type": "text"
      },
      "source": [
        "### Everything is simple Step-by-step"
      ]
    },
    {
      "cell_type": "code",
      "metadata": {
        "id": "Iu2spl-hDN1G",
        "colab_type": "code",
        "outputId": "86297e59-3aee-4fca-a080-a724b2be6caf",
        "colab": {
          "base_uri": "https://localhost:8080/",
          "height": 204
        }
      },
      "source": [
        "data = np.array([[34,108, 64, 88, 99,51],[5,17,11,8,14,5]]).T\n",
        "df = pd.DataFrame(data, columns=('x', 'y'))\n",
        "df.head()"
      ],
      "execution_count": 0,
      "outputs": [
        {
          "output_type": "execute_result",
          "data": {
            "text/html": [
              "<div>\n",
              "<style scoped>\n",
              "    .dataframe tbody tr th:only-of-type {\n",
              "        vertical-align: middle;\n",
              "    }\n",
              "\n",
              "    .dataframe tbody tr th {\n",
              "        vertical-align: top;\n",
              "    }\n",
              "\n",
              "    .dataframe thead th {\n",
              "        text-align: right;\n",
              "    }\n",
              "</style>\n",
              "<table border=\"1\" class=\"dataframe\">\n",
              "  <thead>\n",
              "    <tr style=\"text-align: right;\">\n",
              "      <th></th>\n",
              "      <th>x</th>\n",
              "      <th>y</th>\n",
              "    </tr>\n",
              "  </thead>\n",
              "  <tbody>\n",
              "    <tr>\n",
              "      <th>0</th>\n",
              "      <td>34</td>\n",
              "      <td>5</td>\n",
              "    </tr>\n",
              "    <tr>\n",
              "      <th>1</th>\n",
              "      <td>108</td>\n",
              "      <td>17</td>\n",
              "    </tr>\n",
              "    <tr>\n",
              "      <th>2</th>\n",
              "      <td>64</td>\n",
              "      <td>11</td>\n",
              "    </tr>\n",
              "    <tr>\n",
              "      <th>3</th>\n",
              "      <td>88</td>\n",
              "      <td>8</td>\n",
              "    </tr>\n",
              "    <tr>\n",
              "      <th>4</th>\n",
              "      <td>99</td>\n",
              "      <td>14</td>\n",
              "    </tr>\n",
              "  </tbody>\n",
              "</table>\n",
              "</div>"
            ],
            "text/plain": [
              "     x   y\n",
              "0   34   5\n",
              "1  108  17\n",
              "2   64  11\n",
              "3   88   8\n",
              "4   99  14"
            ]
          },
          "metadata": {
            "tags": []
          },
          "execution_count": 6
        }
      ]
    },
    {
      "cell_type": "code",
      "metadata": {
        "id": "iFgCEATxDN77",
        "colab_type": "code",
        "colab": {}
      },
      "source": [
        "xmean, ymean = df.mean()"
      ],
      "execution_count": 0,
      "outputs": []
    },
    {
      "cell_type": "markdown",
      "metadata": {
        "id": "mPN-UyeEZxRj",
        "colab_type": "text"
      },
      "source": [
        "Мы предсказываем у.\n",
        "\n",
        "Сумма квадратов :\n",
        "\n",
        "$min\\sum (y_i - \\hat{y_i)} ^ 2$\n",
        "\n",
        "\n",
        "1. $\\hat{y} = b_0 + b_1 x$\n",
        "\n",
        "  $b_1 = \\frac{\\sum(x_i - \\overline{x_i})* \\sum(y_i - \\overline{y_i})}{\\sum(x_i - \\overline{x_i}) ^ 2}$\n",
        "\n",
        "  $b_0 = \\overline{y} - b_1\\overline{x}$\n",
        "    \n",
        "2. Center  $\\overline{x}, \\overline{y} = (74, 10) $\n",
        "\n",
        "3. Calculate $\\hat{y}$\n",
        "\n",
        "4. SSE, SST, SSR\n",
        "\n",
        "5. Coef.Determination = $r ^2$ = $\\frac{SSR}{SST}$\n",
        "    \n",
        "    "
      ]
    },
    {
      "cell_type": "code",
      "metadata": {
        "id": "Yn7nDyqqZvzN",
        "colab_type": "code",
        "outputId": "72864abe-a76c-47fc-ea4f-d2e57f803914",
        "colab": {
          "base_uri": "https://localhost:8080/",
          "height": 204
        }
      },
      "source": [
        "df['x-xmean'] = df.x - xmean\n",
        "df['y-ymean'] = df.y - ymean\n",
        "df['(x-xmean)(y-ymean)'] = (df.x - xmean) * (df.y - ymean)\n",
        "df['(x-xmean)** 2'] = (df.x - xmean) ** 2"
      ],
      "execution_count": 0,
      "outputs": [
        {
          "output_type": "execute_result",
          "data": {
            "text/html": [
              "<div>\n",
              "<style scoped>\n",
              "    .dataframe tbody tr th:only-of-type {\n",
              "        vertical-align: middle;\n",
              "    }\n",
              "\n",
              "    .dataframe tbody tr th {\n",
              "        vertical-align: top;\n",
              "    }\n",
              "\n",
              "    .dataframe thead th {\n",
              "        text-align: right;\n",
              "    }\n",
              "</style>\n",
              "<table border=\"1\" class=\"dataframe\">\n",
              "  <thead>\n",
              "    <tr style=\"text-align: right;\">\n",
              "      <th></th>\n",
              "      <th>x</th>\n",
              "      <th>y</th>\n",
              "      <th>x-xmean</th>\n",
              "      <th>y-ymean</th>\n",
              "      <th>(x-xmean)(y-ymean)</th>\n",
              "      <th>(x-xmean)** 2</th>\n",
              "    </tr>\n",
              "  </thead>\n",
              "  <tbody>\n",
              "    <tr>\n",
              "      <th>0</th>\n",
              "      <td>34</td>\n",
              "      <td>5</td>\n",
              "      <td>-40.0</td>\n",
              "      <td>-5.0</td>\n",
              "      <td>200.0</td>\n",
              "      <td>1600.0</td>\n",
              "    </tr>\n",
              "    <tr>\n",
              "      <th>1</th>\n",
              "      <td>108</td>\n",
              "      <td>17</td>\n",
              "      <td>34.0</td>\n",
              "      <td>7.0</td>\n",
              "      <td>238.0</td>\n",
              "      <td>1156.0</td>\n",
              "    </tr>\n",
              "    <tr>\n",
              "      <th>2</th>\n",
              "      <td>64</td>\n",
              "      <td>11</td>\n",
              "      <td>-10.0</td>\n",
              "      <td>1.0</td>\n",
              "      <td>-10.0</td>\n",
              "      <td>100.0</td>\n",
              "    </tr>\n",
              "    <tr>\n",
              "      <th>3</th>\n",
              "      <td>88</td>\n",
              "      <td>8</td>\n",
              "      <td>14.0</td>\n",
              "      <td>-2.0</td>\n",
              "      <td>-28.0</td>\n",
              "      <td>196.0</td>\n",
              "    </tr>\n",
              "    <tr>\n",
              "      <th>4</th>\n",
              "      <td>99</td>\n",
              "      <td>14</td>\n",
              "      <td>25.0</td>\n",
              "      <td>4.0</td>\n",
              "      <td>100.0</td>\n",
              "      <td>625.0</td>\n",
              "    </tr>\n",
              "  </tbody>\n",
              "</table>\n",
              "</div>"
            ],
            "text/plain": [
              "     x   y  x-xmean  y-ymean  (x-xmean)(y-ymean)  (x-xmean)** 2\n",
              "0   34   5    -40.0     -5.0               200.0         1600.0\n",
              "1  108  17     34.0      7.0               238.0         1156.0\n",
              "2   64  11    -10.0      1.0               -10.0          100.0\n",
              "3   88   8     14.0     -2.0               -28.0          196.0\n",
              "4   99  14     25.0      4.0               100.0          625.0"
            ]
          },
          "metadata": {
            "tags": []
          },
          "execution_count": 22
        }
      ]
    },
    {
      "cell_type": "code",
      "metadata": {
        "id": "9CiC8vs0Zv5J",
        "colab_type": "code",
        "colab": {}
      },
      "source": [
        "#calculate sum \n",
        "b_1 = df['(x-xmean)(y-ymean)'].sum() / df['(x-xmean)** 2'].sum() # 0.1462\n",
        "b_0 = ymean - b_1 * xmean # -0.8202"
      ],
      "execution_count": 0,
      "outputs": []
    },
    {
      "cell_type": "code",
      "metadata": {
        "id": "a3LQTQPSZv8z",
        "colab_type": "code",
        "colab": {}
      },
      "source": [
        "df['y_predicted'] = b_0 + b_1 * df.x"
      ],
      "execution_count": 0,
      "outputs": []
    },
    {
      "cell_type": "code",
      "metadata": {
        "id": "QCHu9YFGZwCP",
        "colab_type": "code",
        "colab": {}
      },
      "source": [
        "df['error'] = (df.y - df['y_predicted']) ** 2"
      ],
      "execution_count": 0,
      "outputs": []
    },
    {
      "cell_type": "code",
      "metadata": {
        "id": "OoZdYSulZwIb",
        "colab_type": "code",
        "outputId": "c09294ee-fd95-4630-d248-a3d296c61b72",
        "colab": {
          "base_uri": "https://localhost:8080/",
          "height": 204
        }
      },
      "source": [
        "df.head()"
      ],
      "execution_count": 0,
      "outputs": [
        {
          "output_type": "execute_result",
          "data": {
            "text/html": [
              "<div>\n",
              "<style scoped>\n",
              "    .dataframe tbody tr th:only-of-type {\n",
              "        vertical-align: middle;\n",
              "    }\n",
              "\n",
              "    .dataframe tbody tr th {\n",
              "        vertical-align: top;\n",
              "    }\n",
              "\n",
              "    .dataframe thead th {\n",
              "        text-align: right;\n",
              "    }\n",
              "</style>\n",
              "<table border=\"1\" class=\"dataframe\">\n",
              "  <thead>\n",
              "    <tr style=\"text-align: right;\">\n",
              "      <th></th>\n",
              "      <th>x</th>\n",
              "      <th>y</th>\n",
              "      <th>x-xmean</th>\n",
              "      <th>y-ymean</th>\n",
              "      <th>(x-xmean)(y-ymean)</th>\n",
              "      <th>(x-xmean)** 2</th>\n",
              "      <th>y_predicted</th>\n",
              "      <th>error</th>\n",
              "    </tr>\n",
              "  </thead>\n",
              "  <tbody>\n",
              "    <tr>\n",
              "      <th>0</th>\n",
              "      <td>34</td>\n",
              "      <td>5</td>\n",
              "      <td>-40.0</td>\n",
              "      <td>-5.0</td>\n",
              "      <td>200.0</td>\n",
              "      <td>1600.0</td>\n",
              "      <td>4.151213</td>\n",
              "      <td>0.720440</td>\n",
              "    </tr>\n",
              "    <tr>\n",
              "      <th>1</th>\n",
              "      <td>108</td>\n",
              "      <td>17</td>\n",
              "      <td>34.0</td>\n",
              "      <td>7.0</td>\n",
              "      <td>238.0</td>\n",
              "      <td>1156.0</td>\n",
              "      <td>14.971469</td>\n",
              "      <td>4.114937</td>\n",
              "    </tr>\n",
              "    <tr>\n",
              "      <th>2</th>\n",
              "      <td>64</td>\n",
              "      <td>11</td>\n",
              "      <td>-10.0</td>\n",
              "      <td>1.0</td>\n",
              "      <td>-10.0</td>\n",
              "      <td>100.0</td>\n",
              "      <td>8.537803</td>\n",
              "      <td>6.062413</td>\n",
              "    </tr>\n",
              "    <tr>\n",
              "      <th>3</th>\n",
              "      <td>88</td>\n",
              "      <td>8</td>\n",
              "      <td>14.0</td>\n",
              "      <td>-2.0</td>\n",
              "      <td>-28.0</td>\n",
              "      <td>196.0</td>\n",
              "      <td>12.047076</td>\n",
              "      <td>16.378821</td>\n",
              "    </tr>\n",
              "    <tr>\n",
              "      <th>4</th>\n",
              "      <td>99</td>\n",
              "      <td>14</td>\n",
              "      <td>25.0</td>\n",
              "      <td>4.0</td>\n",
              "      <td>100.0</td>\n",
              "      <td>625.0</td>\n",
              "      <td>13.655492</td>\n",
              "      <td>0.118686</td>\n",
              "    </tr>\n",
              "  </tbody>\n",
              "</table>\n",
              "</div>"
            ],
            "text/plain": [
              "     x   y  x-xmean  y-ymean  (x-xmean)(y-ymean)  (x-xmean)** 2  y_predicted  \\\n",
              "0   34   5    -40.0     -5.0               200.0         1600.0     4.151213   \n",
              "1  108  17     34.0      7.0               238.0         1156.0    14.971469   \n",
              "2   64  11    -10.0      1.0               -10.0          100.0     8.537803   \n",
              "3   88   8     14.0     -2.0               -28.0          196.0    12.047076   \n",
              "4   99  14     25.0      4.0               100.0          625.0    13.655492   \n",
              "\n",
              "       error  \n",
              "0   0.720440  \n",
              "1   4.114937  \n",
              "2   6.062413  \n",
              "3  16.378821  \n",
              "4   0.118686  "
            ]
          },
          "metadata": {
            "tags": []
          },
          "execution_count": 46
        }
      ]
    },
    {
      "cell_type": "code",
      "metadata": {
        "id": "ZHqRhjAZZwMG",
        "colab_type": "code",
        "outputId": "719e1a5b-0717-4a64-b17f-b3c1543b3c7f",
        "colab": {
          "base_uri": "https://localhost:8080/",
          "height": 382
        }
      },
      "source": [
        "plt.scatter(df.x, df.y, s = 150, c = 'purple')# data\n",
        "plt.scatter(df.x, df['y_predicted'], marker = 'o', s = 100, c = 'b') #predict\n",
        "plt.plot(df.x, df['y_predicted'])#line regression\n",
        "plt.xlim(30, 110)\n",
        "plt.ylim(4, 18)\n",
        "plt.xlabel('Axis X')\n",
        "plt.ylabel('Axis Y')"
      ],
      "execution_count": 0,
      "outputs": [
        {
          "output_type": "execute_result",
          "data": {
            "text/plain": [
              "Text(0, 0.5, 'Axis Y')"
            ]
          },
          "metadata": {
            "tags": []
          },
          "execution_count": 111
        },
        {
          "output_type": "display_data",
          "data": {
            "image/png": "[encoded data removed]",
            "text/plain": [
              "<Figure size 576x396 with 1 Axes>"
            ]
          },
          "metadata": {
            "tags": []
          }
        }
      ]
    },
    {
      "cell_type": "code",
      "metadata": {
        "id": "h275jf2gZwPu",
        "colab_type": "code",
        "colab": {}
      },
      "source": [
        "sse = df.error.sum() #30.07489\n",
        "sst = ((df.y - ymean) ** 2).sum() # 120\n",
        "ssr = sst - sse #89.925"
      ],
      "execution_count": 0,
      "outputs": []
    },
    {
      "cell_type": "code",
      "metadata": {
        "id": "BIwm5hR5K3bE",
        "colab_type": "code",
        "outputId": "58561b57-7ec3-4223-d8c1-394ec19a83bc",
        "colab": {
          "base_uri": "https://localhost:8080/",
          "height": 34
        }
      },
      "source": [
        "coef_determination = ssr/ sst\n",
        "predict = coef_determination * 100\n",
        "predict"
      ],
      "execution_count": 0,
      "outputs": [
        {
          "output_type": "execute_result",
          "data": {
            "text/plain": [
              "74.93758915834522"
            ]
          },
          "metadata": {
            "tags": []
          },
          "execution_count": 118
        }
      ]
    }
  ]
}